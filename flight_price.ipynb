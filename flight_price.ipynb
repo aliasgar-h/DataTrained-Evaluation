{
 "cells": [
  {
   "cell_type": "markdown",
   "metadata": {},
   "source": [
    "# Description\n",
    "\n",
    "\n",
    "Here we are provided with a datset which conatins prices of flight tickets for various airlines between the months of March and June of 2019 and between various cities.\n",
    "\n",
    "Flight ticket prices can be something hard to guess, today we might see a price, check out the price of the same flight tomorrow, it will be a different story. We might have often heard travellers saying that flight ticket prices are so unpredictable.\n",
    "\n",
    "Size of training set: 10683 records\n",
    "\n",
    "Size of test set: 2671 records\n",
    " In The datset We have been provided with following features..\n",
    "\n",
    "FEATURES:\n",
    "\n",
    "Airline: The name of the airline.\n",
    "\n",
    "Date_of_Journey: The date of the journey\n",
    "\n",
    "Source: The source from which the service begins.\n",
    "\n",
    "Destination: The destination where the service ends.\n",
    "\n",
    "Route: The route taken by the flight to reach the destination.\n",
    "\n",
    "Dep_Time: The time when the journey starts from the source.\n",
    "\n",
    "Arrival_Time: Time of arrival at the destination.\n",
    "\n",
    "Duration: Total duration of the flight.\n",
    "\n",
    "Total_Stops: Total stops between the source and destination.\n",
    "\n",
    "Additional_Info: Additional information about the flight\n",
    "\n",
    "Price: The price of the ticket\n",
    "\n",
    "We have to train a machine learning model which can predict the flight price given the details about following features.\n",
    "\n",
    "As the flight fare is continous in nature we will move ahead with regression approach.\n",
    "\n",
    "Lets Begin...!!!"
   ]
  },
  {
   "cell_type": "code",
   "execution_count": 1,
   "metadata": {},
   "outputs": [],
   "source": [
    "# Importing Libraries\n",
    "import pandas as pd\n",
    "import numpy as np\n",
    "import matplotlib.pyplot as plt\n",
    "import seaborn as sns\n",
    "import warnings\n",
    "warnings.filterwarnings('ignore')"
   ]
  },
  {
   "cell_type": "code",
   "execution_count": 2,
   "metadata": {},
   "outputs": [],
   "source": [
    "flight_train=pd.read_excel('flight_price_train.xlsx')\n",
    "flight_test=pd.read_excel('flight_price_test.xlsx')"
   ]
  },
  {
   "cell_type": "code",
   "execution_count": 3,
   "metadata": {},
   "outputs": [],
   "source": [
    "pd.set_option('display.max_rows',None)\n",
    "pd.set_option('display.max_columns',None)"
   ]
  },
  {
   "cell_type": "markdown",
   "metadata": {},
   "source": [
    "# Overviewing Train and Test Datasets"
   ]
  },
  {
   "cell_type": "code",
   "execution_count": 4,
   "metadata": {},
   "outputs": [
    {
     "data": {
      "text/html": [
       "<div>\n",
       "<style scoped>\n",
       "    .dataframe tbody tr th:only-of-type {\n",
       "        vertical-align: middle;\n",
       "    }\n",
       "\n",
       "    .dataframe tbody tr th {\n",
       "        vertical-align: top;\n",
       "    }\n",
       "\n",
       "    .dataframe thead th {\n",
       "        text-align: right;\n",
       "    }\n",
       "</style>\n",
       "<table border=\"1\" class=\"dataframe\">\n",
       "  <thead>\n",
       "    <tr style=\"text-align: right;\">\n",
       "      <th></th>\n",
       "      <th>Airline</th>\n",
       "      <th>Date_of_Journey</th>\n",
       "      <th>Source</th>\n",
       "      <th>Destination</th>\n",
       "      <th>Route</th>\n",
       "      <th>Dep_Time</th>\n",
       "      <th>Arrival_Time</th>\n",
       "      <th>Duration</th>\n",
       "      <th>Total_Stops</th>\n",
       "      <th>Additional_Info</th>\n",
       "      <th>Price</th>\n",
       "    </tr>\n",
       "  </thead>\n",
       "  <tbody>\n",
       "    <tr>\n",
       "      <th>0</th>\n",
       "      <td>IndiGo</td>\n",
       "      <td>24/03/2019</td>\n",
       "      <td>Banglore</td>\n",
       "      <td>New Delhi</td>\n",
       "      <td>BLR → DEL</td>\n",
       "      <td>22:20</td>\n",
       "      <td>01:10 22 Mar</td>\n",
       "      <td>2h 50m</td>\n",
       "      <td>non-stop</td>\n",
       "      <td>No info</td>\n",
       "      <td>3897</td>\n",
       "    </tr>\n",
       "    <tr>\n",
       "      <th>1</th>\n",
       "      <td>Air India</td>\n",
       "      <td>1/05/2019</td>\n",
       "      <td>Kolkata</td>\n",
       "      <td>Banglore</td>\n",
       "      <td>CCU → IXR → BBI → BLR</td>\n",
       "      <td>05:50</td>\n",
       "      <td>13:15</td>\n",
       "      <td>7h 25m</td>\n",
       "      <td>2 stops</td>\n",
       "      <td>No info</td>\n",
       "      <td>7662</td>\n",
       "    </tr>\n",
       "    <tr>\n",
       "      <th>2</th>\n",
       "      <td>Jet Airways</td>\n",
       "      <td>9/06/2019</td>\n",
       "      <td>Delhi</td>\n",
       "      <td>Cochin</td>\n",
       "      <td>DEL → LKO → BOM → COK</td>\n",
       "      <td>09:25</td>\n",
       "      <td>04:25 10 Jun</td>\n",
       "      <td>19h</td>\n",
       "      <td>2 stops</td>\n",
       "      <td>No info</td>\n",
       "      <td>13882</td>\n",
       "    </tr>\n",
       "    <tr>\n",
       "      <th>3</th>\n",
       "      <td>IndiGo</td>\n",
       "      <td>12/05/2019</td>\n",
       "      <td>Kolkata</td>\n",
       "      <td>Banglore</td>\n",
       "      <td>CCU → NAG → BLR</td>\n",
       "      <td>18:05</td>\n",
       "      <td>23:30</td>\n",
       "      <td>5h 25m</td>\n",
       "      <td>1 stop</td>\n",
       "      <td>No info</td>\n",
       "      <td>6218</td>\n",
       "    </tr>\n",
       "    <tr>\n",
       "      <th>4</th>\n",
       "      <td>IndiGo</td>\n",
       "      <td>01/03/2019</td>\n",
       "      <td>Banglore</td>\n",
       "      <td>New Delhi</td>\n",
       "      <td>BLR → NAG → DEL</td>\n",
       "      <td>16:50</td>\n",
       "      <td>21:35</td>\n",
       "      <td>4h 45m</td>\n",
       "      <td>1 stop</td>\n",
       "      <td>No info</td>\n",
       "      <td>13302</td>\n",
       "    </tr>\n",
       "    <tr>\n",
       "      <th>5</th>\n",
       "      <td>SpiceJet</td>\n",
       "      <td>24/06/2019</td>\n",
       "      <td>Kolkata</td>\n",
       "      <td>Banglore</td>\n",
       "      <td>CCU → BLR</td>\n",
       "      <td>09:00</td>\n",
       "      <td>11:25</td>\n",
       "      <td>2h 25m</td>\n",
       "      <td>non-stop</td>\n",
       "      <td>No info</td>\n",
       "      <td>3873</td>\n",
       "    </tr>\n",
       "    <tr>\n",
       "      <th>6</th>\n",
       "      <td>Jet Airways</td>\n",
       "      <td>12/03/2019</td>\n",
       "      <td>Banglore</td>\n",
       "      <td>New Delhi</td>\n",
       "      <td>BLR → BOM → DEL</td>\n",
       "      <td>18:55</td>\n",
       "      <td>10:25 13 Mar</td>\n",
       "      <td>15h 30m</td>\n",
       "      <td>1 stop</td>\n",
       "      <td>In-flight meal not included</td>\n",
       "      <td>11087</td>\n",
       "    </tr>\n",
       "    <tr>\n",
       "      <th>7</th>\n",
       "      <td>Jet Airways</td>\n",
       "      <td>01/03/2019</td>\n",
       "      <td>Banglore</td>\n",
       "      <td>New Delhi</td>\n",
       "      <td>BLR → BOM → DEL</td>\n",
       "      <td>08:00</td>\n",
       "      <td>05:05 02 Mar</td>\n",
       "      <td>21h 5m</td>\n",
       "      <td>1 stop</td>\n",
       "      <td>No info</td>\n",
       "      <td>22270</td>\n",
       "    </tr>\n",
       "    <tr>\n",
       "      <th>8</th>\n",
       "      <td>Jet Airways</td>\n",
       "      <td>12/03/2019</td>\n",
       "      <td>Banglore</td>\n",
       "      <td>New Delhi</td>\n",
       "      <td>BLR → BOM → DEL</td>\n",
       "      <td>08:55</td>\n",
       "      <td>10:25 13 Mar</td>\n",
       "      <td>25h 30m</td>\n",
       "      <td>1 stop</td>\n",
       "      <td>In-flight meal not included</td>\n",
       "      <td>11087</td>\n",
       "    </tr>\n",
       "    <tr>\n",
       "      <th>9</th>\n",
       "      <td>Multiple carriers</td>\n",
       "      <td>27/05/2019</td>\n",
       "      <td>Delhi</td>\n",
       "      <td>Cochin</td>\n",
       "      <td>DEL → BOM → COK</td>\n",
       "      <td>11:25</td>\n",
       "      <td>19:15</td>\n",
       "      <td>7h 50m</td>\n",
       "      <td>1 stop</td>\n",
       "      <td>No info</td>\n",
       "      <td>8625</td>\n",
       "    </tr>\n",
       "  </tbody>\n",
       "</table>\n",
       "</div>"
      ],
      "text/plain": [
       "             Airline Date_of_Journey    Source Destination  \\\n",
       "0             IndiGo      24/03/2019  Banglore   New Delhi   \n",
       "1          Air India       1/05/2019   Kolkata    Banglore   \n",
       "2        Jet Airways       9/06/2019     Delhi      Cochin   \n",
       "3             IndiGo      12/05/2019   Kolkata    Banglore   \n",
       "4             IndiGo      01/03/2019  Banglore   New Delhi   \n",
       "5           SpiceJet      24/06/2019   Kolkata    Banglore   \n",
       "6        Jet Airways      12/03/2019  Banglore   New Delhi   \n",
       "7        Jet Airways      01/03/2019  Banglore   New Delhi   \n",
       "8        Jet Airways      12/03/2019  Banglore   New Delhi   \n",
       "9  Multiple carriers      27/05/2019     Delhi      Cochin   \n",
       "\n",
       "                   Route Dep_Time  Arrival_Time Duration Total_Stops  \\\n",
       "0              BLR → DEL    22:20  01:10 22 Mar   2h 50m    non-stop   \n",
       "1  CCU → IXR → BBI → BLR    05:50         13:15   7h 25m     2 stops   \n",
       "2  DEL → LKO → BOM → COK    09:25  04:25 10 Jun      19h     2 stops   \n",
       "3        CCU → NAG → BLR    18:05         23:30   5h 25m      1 stop   \n",
       "4        BLR → NAG → DEL    16:50         21:35   4h 45m      1 stop   \n",
       "5              CCU → BLR    09:00         11:25   2h 25m    non-stop   \n",
       "6        BLR → BOM → DEL    18:55  10:25 13 Mar  15h 30m      1 stop   \n",
       "7        BLR → BOM → DEL    08:00  05:05 02 Mar   21h 5m      1 stop   \n",
       "8        BLR → BOM → DEL    08:55  10:25 13 Mar  25h 30m      1 stop   \n",
       "9        DEL → BOM → COK    11:25         19:15   7h 50m      1 stop   \n",
       "\n",
       "               Additional_Info  Price  \n",
       "0                      No info   3897  \n",
       "1                      No info   7662  \n",
       "2                      No info  13882  \n",
       "3                      No info   6218  \n",
       "4                      No info  13302  \n",
       "5                      No info   3873  \n",
       "6  In-flight meal not included  11087  \n",
       "7                      No info  22270  \n",
       "8  In-flight meal not included  11087  \n",
       "9                      No info   8625  "
      ]
     },
     "execution_count": 4,
     "metadata": {},
     "output_type": "execute_result"
    }
   ],
   "source": [
    "# Checking Train Datset\n",
    "\n",
    "flight_train.head(10)"
   ]
  },
  {
   "cell_type": "code",
   "execution_count": 5,
   "metadata": {},
   "outputs": [
    {
     "data": {
      "text/html": [
       "<div>\n",
       "<style scoped>\n",
       "    .dataframe tbody tr th:only-of-type {\n",
       "        vertical-align: middle;\n",
       "    }\n",
       "\n",
       "    .dataframe tbody tr th {\n",
       "        vertical-align: top;\n",
       "    }\n",
       "\n",
       "    .dataframe thead th {\n",
       "        text-align: right;\n",
       "    }\n",
       "</style>\n",
       "<table border=\"1\" class=\"dataframe\">\n",
       "  <thead>\n",
       "    <tr style=\"text-align: right;\">\n",
       "      <th></th>\n",
       "      <th>Airline</th>\n",
       "      <th>Date_of_Journey</th>\n",
       "      <th>Source</th>\n",
       "      <th>Destination</th>\n",
       "      <th>Route</th>\n",
       "      <th>Dep_Time</th>\n",
       "      <th>Arrival_Time</th>\n",
       "      <th>Duration</th>\n",
       "      <th>Total_Stops</th>\n",
       "      <th>Additional_Info</th>\n",
       "      <th>Price</th>\n",
       "    </tr>\n",
       "  </thead>\n",
       "  <tbody>\n",
       "    <tr>\n",
       "      <th>10673</th>\n",
       "      <td>Jet Airways</td>\n",
       "      <td>27/05/2019</td>\n",
       "      <td>Delhi</td>\n",
       "      <td>Cochin</td>\n",
       "      <td>DEL → AMD → BOM → COK</td>\n",
       "      <td>13:25</td>\n",
       "      <td>04:25 28 May</td>\n",
       "      <td>15h</td>\n",
       "      <td>2 stops</td>\n",
       "      <td>No info</td>\n",
       "      <td>16704</td>\n",
       "    </tr>\n",
       "    <tr>\n",
       "      <th>10674</th>\n",
       "      <td>Jet Airways</td>\n",
       "      <td>12/03/2019</td>\n",
       "      <td>Banglore</td>\n",
       "      <td>New Delhi</td>\n",
       "      <td>BLR → BOM → DEL</td>\n",
       "      <td>20:35</td>\n",
       "      <td>21:20 13 Mar</td>\n",
       "      <td>24h 45m</td>\n",
       "      <td>1 stop</td>\n",
       "      <td>In-flight meal not included</td>\n",
       "      <td>11087</td>\n",
       "    </tr>\n",
       "    <tr>\n",
       "      <th>10675</th>\n",
       "      <td>Air India</td>\n",
       "      <td>9/06/2019</td>\n",
       "      <td>Mumbai</td>\n",
       "      <td>Hyderabad</td>\n",
       "      <td>BOM → HYD</td>\n",
       "      <td>06:20</td>\n",
       "      <td>07:40</td>\n",
       "      <td>1h 20m</td>\n",
       "      <td>non-stop</td>\n",
       "      <td>No info</td>\n",
       "      <td>3100</td>\n",
       "    </tr>\n",
       "    <tr>\n",
       "      <th>10676</th>\n",
       "      <td>Multiple carriers</td>\n",
       "      <td>1/05/2019</td>\n",
       "      <td>Delhi</td>\n",
       "      <td>Cochin</td>\n",
       "      <td>DEL → BOM → COK</td>\n",
       "      <td>10:20</td>\n",
       "      <td>19:00</td>\n",
       "      <td>8h 40m</td>\n",
       "      <td>1 stop</td>\n",
       "      <td>No info</td>\n",
       "      <td>9794</td>\n",
       "    </tr>\n",
       "    <tr>\n",
       "      <th>10677</th>\n",
       "      <td>SpiceJet</td>\n",
       "      <td>21/05/2019</td>\n",
       "      <td>Banglore</td>\n",
       "      <td>Delhi</td>\n",
       "      <td>BLR → DEL</td>\n",
       "      <td>05:55</td>\n",
       "      <td>08:35</td>\n",
       "      <td>2h 40m</td>\n",
       "      <td>non-stop</td>\n",
       "      <td>No check-in baggage included</td>\n",
       "      <td>3257</td>\n",
       "    </tr>\n",
       "    <tr>\n",
       "      <th>10678</th>\n",
       "      <td>Air Asia</td>\n",
       "      <td>9/04/2019</td>\n",
       "      <td>Kolkata</td>\n",
       "      <td>Banglore</td>\n",
       "      <td>CCU → BLR</td>\n",
       "      <td>19:55</td>\n",
       "      <td>22:25</td>\n",
       "      <td>2h 30m</td>\n",
       "      <td>non-stop</td>\n",
       "      <td>No info</td>\n",
       "      <td>4107</td>\n",
       "    </tr>\n",
       "    <tr>\n",
       "      <th>10679</th>\n",
       "      <td>Air India</td>\n",
       "      <td>27/04/2019</td>\n",
       "      <td>Kolkata</td>\n",
       "      <td>Banglore</td>\n",
       "      <td>CCU → BLR</td>\n",
       "      <td>20:45</td>\n",
       "      <td>23:20</td>\n",
       "      <td>2h 35m</td>\n",
       "      <td>non-stop</td>\n",
       "      <td>No info</td>\n",
       "      <td>4145</td>\n",
       "    </tr>\n",
       "    <tr>\n",
       "      <th>10680</th>\n",
       "      <td>Jet Airways</td>\n",
       "      <td>27/04/2019</td>\n",
       "      <td>Banglore</td>\n",
       "      <td>Delhi</td>\n",
       "      <td>BLR → DEL</td>\n",
       "      <td>08:20</td>\n",
       "      <td>11:20</td>\n",
       "      <td>3h</td>\n",
       "      <td>non-stop</td>\n",
       "      <td>No info</td>\n",
       "      <td>7229</td>\n",
       "    </tr>\n",
       "    <tr>\n",
       "      <th>10681</th>\n",
       "      <td>Vistara</td>\n",
       "      <td>01/03/2019</td>\n",
       "      <td>Banglore</td>\n",
       "      <td>New Delhi</td>\n",
       "      <td>BLR → DEL</td>\n",
       "      <td>11:30</td>\n",
       "      <td>14:10</td>\n",
       "      <td>2h 40m</td>\n",
       "      <td>non-stop</td>\n",
       "      <td>No info</td>\n",
       "      <td>12648</td>\n",
       "    </tr>\n",
       "    <tr>\n",
       "      <th>10682</th>\n",
       "      <td>Air India</td>\n",
       "      <td>9/05/2019</td>\n",
       "      <td>Delhi</td>\n",
       "      <td>Cochin</td>\n",
       "      <td>DEL → GOI → BOM → COK</td>\n",
       "      <td>10:55</td>\n",
       "      <td>19:15</td>\n",
       "      <td>8h 20m</td>\n",
       "      <td>2 stops</td>\n",
       "      <td>No info</td>\n",
       "      <td>11753</td>\n",
       "    </tr>\n",
       "  </tbody>\n",
       "</table>\n",
       "</div>"
      ],
      "text/plain": [
       "                 Airline Date_of_Journey    Source Destination  \\\n",
       "10673        Jet Airways      27/05/2019     Delhi      Cochin   \n",
       "10674        Jet Airways      12/03/2019  Banglore   New Delhi   \n",
       "10675          Air India       9/06/2019    Mumbai   Hyderabad   \n",
       "10676  Multiple carriers       1/05/2019     Delhi      Cochin   \n",
       "10677           SpiceJet      21/05/2019  Banglore       Delhi   \n",
       "10678           Air Asia       9/04/2019   Kolkata    Banglore   \n",
       "10679          Air India      27/04/2019   Kolkata    Banglore   \n",
       "10680        Jet Airways      27/04/2019  Banglore       Delhi   \n",
       "10681            Vistara      01/03/2019  Banglore   New Delhi   \n",
       "10682          Air India       9/05/2019     Delhi      Cochin   \n",
       "\n",
       "                       Route Dep_Time  Arrival_Time Duration Total_Stops  \\\n",
       "10673  DEL → AMD → BOM → COK    13:25  04:25 28 May      15h     2 stops   \n",
       "10674        BLR → BOM → DEL    20:35  21:20 13 Mar  24h 45m      1 stop   \n",
       "10675              BOM → HYD    06:20         07:40   1h 20m    non-stop   \n",
       "10676        DEL → BOM → COK    10:20         19:00   8h 40m      1 stop   \n",
       "10677              BLR → DEL    05:55         08:35   2h 40m    non-stop   \n",
       "10678              CCU → BLR    19:55         22:25   2h 30m    non-stop   \n",
       "10679              CCU → BLR    20:45         23:20   2h 35m    non-stop   \n",
       "10680              BLR → DEL    08:20         11:20       3h    non-stop   \n",
       "10681              BLR → DEL    11:30         14:10   2h 40m    non-stop   \n",
       "10682  DEL → GOI → BOM → COK    10:55         19:15   8h 20m     2 stops   \n",
       "\n",
       "                    Additional_Info  Price  \n",
       "10673                       No info  16704  \n",
       "10674   In-flight meal not included  11087  \n",
       "10675                       No info   3100  \n",
       "10676                       No info   9794  \n",
       "10677  No check-in baggage included   3257  \n",
       "10678                       No info   4107  \n",
       "10679                       No info   4145  \n",
       "10680                       No info   7229  \n",
       "10681                       No info  12648  \n",
       "10682                       No info  11753  "
      ]
     },
     "execution_count": 5,
     "metadata": {},
     "output_type": "execute_result"
    }
   ],
   "source": [
    "flight_train.tail(10)"
   ]
  },
  {
   "cell_type": "code",
   "execution_count": 12,
   "metadata": {},
   "outputs": [
    {
     "data": {
      "text/html": [
       "<div>\n",
       "<style scoped>\n",
       "    .dataframe tbody tr th:only-of-type {\n",
       "        vertical-align: middle;\n",
       "    }\n",
       "\n",
       "    .dataframe tbody tr th {\n",
       "        vertical-align: top;\n",
       "    }\n",
       "\n",
       "    .dataframe thead th {\n",
       "        text-align: right;\n",
       "    }\n",
       "</style>\n",
       "<table border=\"1\" class=\"dataframe\">\n",
       "  <thead>\n",
       "    <tr style=\"text-align: right;\">\n",
       "      <th></th>\n",
       "      <th>Airline</th>\n",
       "      <th>Date_of_Journey</th>\n",
       "      <th>Source</th>\n",
       "      <th>Destination</th>\n",
       "      <th>Route</th>\n",
       "      <th>Dep_Time</th>\n",
       "      <th>Arrival_Time</th>\n",
       "      <th>Duration</th>\n",
       "      <th>Total_Stops</th>\n",
       "      <th>Additional_Info</th>\n",
       "    </tr>\n",
       "  </thead>\n",
       "  <tbody>\n",
       "    <tr>\n",
       "      <th>0</th>\n",
       "      <td>Jet Airways</td>\n",
       "      <td>6/06/2019</td>\n",
       "      <td>Delhi</td>\n",
       "      <td>Cochin</td>\n",
       "      <td>DEL → BOM → COK</td>\n",
       "      <td>17:30</td>\n",
       "      <td>04:25 07 Jun</td>\n",
       "      <td>10h 55m</td>\n",
       "      <td>1 stop</td>\n",
       "      <td>No info</td>\n",
       "    </tr>\n",
       "    <tr>\n",
       "      <th>1</th>\n",
       "      <td>IndiGo</td>\n",
       "      <td>12/05/2019</td>\n",
       "      <td>Kolkata</td>\n",
       "      <td>Banglore</td>\n",
       "      <td>CCU → MAA → BLR</td>\n",
       "      <td>06:20</td>\n",
       "      <td>10:20</td>\n",
       "      <td>4h</td>\n",
       "      <td>1 stop</td>\n",
       "      <td>No info</td>\n",
       "    </tr>\n",
       "    <tr>\n",
       "      <th>2</th>\n",
       "      <td>Jet Airways</td>\n",
       "      <td>21/05/2019</td>\n",
       "      <td>Delhi</td>\n",
       "      <td>Cochin</td>\n",
       "      <td>DEL → BOM → COK</td>\n",
       "      <td>19:15</td>\n",
       "      <td>19:00 22 May</td>\n",
       "      <td>23h 45m</td>\n",
       "      <td>1 stop</td>\n",
       "      <td>In-flight meal not included</td>\n",
       "    </tr>\n",
       "    <tr>\n",
       "      <th>3</th>\n",
       "      <td>Multiple carriers</td>\n",
       "      <td>21/05/2019</td>\n",
       "      <td>Delhi</td>\n",
       "      <td>Cochin</td>\n",
       "      <td>DEL → BOM → COK</td>\n",
       "      <td>08:00</td>\n",
       "      <td>21:00</td>\n",
       "      <td>13h</td>\n",
       "      <td>1 stop</td>\n",
       "      <td>No info</td>\n",
       "    </tr>\n",
       "    <tr>\n",
       "      <th>4</th>\n",
       "      <td>Air Asia</td>\n",
       "      <td>24/06/2019</td>\n",
       "      <td>Banglore</td>\n",
       "      <td>Delhi</td>\n",
       "      <td>BLR → DEL</td>\n",
       "      <td>23:55</td>\n",
       "      <td>02:45 25 Jun</td>\n",
       "      <td>2h 50m</td>\n",
       "      <td>non-stop</td>\n",
       "      <td>No info</td>\n",
       "    </tr>\n",
       "    <tr>\n",
       "      <th>5</th>\n",
       "      <td>Jet Airways</td>\n",
       "      <td>12/06/2019</td>\n",
       "      <td>Delhi</td>\n",
       "      <td>Cochin</td>\n",
       "      <td>DEL → BOM → COK</td>\n",
       "      <td>18:15</td>\n",
       "      <td>12:35 13 Jun</td>\n",
       "      <td>18h 20m</td>\n",
       "      <td>1 stop</td>\n",
       "      <td>In-flight meal not included</td>\n",
       "    </tr>\n",
       "    <tr>\n",
       "      <th>6</th>\n",
       "      <td>Air India</td>\n",
       "      <td>12/03/2019</td>\n",
       "      <td>Banglore</td>\n",
       "      <td>New Delhi</td>\n",
       "      <td>BLR → TRV → DEL</td>\n",
       "      <td>07:30</td>\n",
       "      <td>22:35</td>\n",
       "      <td>15h 5m</td>\n",
       "      <td>1 stop</td>\n",
       "      <td>No info</td>\n",
       "    </tr>\n",
       "    <tr>\n",
       "      <th>7</th>\n",
       "      <td>IndiGo</td>\n",
       "      <td>1/05/2019</td>\n",
       "      <td>Kolkata</td>\n",
       "      <td>Banglore</td>\n",
       "      <td>CCU → HYD → BLR</td>\n",
       "      <td>15:15</td>\n",
       "      <td>20:30</td>\n",
       "      <td>5h 15m</td>\n",
       "      <td>1 stop</td>\n",
       "      <td>No info</td>\n",
       "    </tr>\n",
       "    <tr>\n",
       "      <th>8</th>\n",
       "      <td>IndiGo</td>\n",
       "      <td>15/03/2019</td>\n",
       "      <td>Kolkata</td>\n",
       "      <td>Banglore</td>\n",
       "      <td>CCU → BLR</td>\n",
       "      <td>10:10</td>\n",
       "      <td>12:55</td>\n",
       "      <td>2h 45m</td>\n",
       "      <td>non-stop</td>\n",
       "      <td>No info</td>\n",
       "    </tr>\n",
       "    <tr>\n",
       "      <th>9</th>\n",
       "      <td>Jet Airways</td>\n",
       "      <td>18/05/2019</td>\n",
       "      <td>Kolkata</td>\n",
       "      <td>Banglore</td>\n",
       "      <td>CCU → BOM → BLR</td>\n",
       "      <td>16:30</td>\n",
       "      <td>22:35</td>\n",
       "      <td>6h 5m</td>\n",
       "      <td>1 stop</td>\n",
       "      <td>No info</td>\n",
       "    </tr>\n",
       "  </tbody>\n",
       "</table>\n",
       "</div>"
      ],
      "text/plain": [
       "             Airline Date_of_Journey    Source Destination            Route  \\\n",
       "0        Jet Airways       6/06/2019     Delhi      Cochin  DEL → BOM → COK   \n",
       "1             IndiGo      12/05/2019   Kolkata    Banglore  CCU → MAA → BLR   \n",
       "2        Jet Airways      21/05/2019     Delhi      Cochin  DEL → BOM → COK   \n",
       "3  Multiple carriers      21/05/2019     Delhi      Cochin  DEL → BOM → COK   \n",
       "4           Air Asia      24/06/2019  Banglore       Delhi        BLR → DEL   \n",
       "5        Jet Airways      12/06/2019     Delhi      Cochin  DEL → BOM → COK   \n",
       "6          Air India      12/03/2019  Banglore   New Delhi  BLR → TRV → DEL   \n",
       "7             IndiGo       1/05/2019   Kolkata    Banglore  CCU → HYD → BLR   \n",
       "8             IndiGo      15/03/2019   Kolkata    Banglore        CCU → BLR   \n",
       "9        Jet Airways      18/05/2019   Kolkata    Banglore  CCU → BOM → BLR   \n",
       "\n",
       "  Dep_Time  Arrival_Time Duration Total_Stops              Additional_Info  \n",
       "0    17:30  04:25 07 Jun  10h 55m      1 stop                      No info  \n",
       "1    06:20         10:20       4h      1 stop                      No info  \n",
       "2    19:15  19:00 22 May  23h 45m      1 stop  In-flight meal not included  \n",
       "3    08:00         21:00      13h      1 stop                      No info  \n",
       "4    23:55  02:45 25 Jun   2h 50m    non-stop                      No info  \n",
       "5    18:15  12:35 13 Jun  18h 20m      1 stop  In-flight meal not included  \n",
       "6    07:30         22:35   15h 5m      1 stop                      No info  \n",
       "7    15:15         20:30   5h 15m      1 stop                      No info  \n",
       "8    10:10         12:55   2h 45m    non-stop                      No info  \n",
       "9    16:30         22:35    6h 5m      1 stop                      No info  "
      ]
     },
     "execution_count": 12,
     "metadata": {},
     "output_type": "execute_result"
    }
   ],
   "source": [
    "# Checking Test Dataset\n",
    "\n",
    "flight_test.head(10)"
   ]
  },
  {
   "cell_type": "code",
   "execution_count": 13,
   "metadata": {},
   "outputs": [
    {
     "data": {
      "text/html": [
       "<div>\n",
       "<style scoped>\n",
       "    .dataframe tbody tr th:only-of-type {\n",
       "        vertical-align: middle;\n",
       "    }\n",
       "\n",
       "    .dataframe tbody tr th {\n",
       "        vertical-align: top;\n",
       "    }\n",
       "\n",
       "    .dataframe thead th {\n",
       "        text-align: right;\n",
       "    }\n",
       "</style>\n",
       "<table border=\"1\" class=\"dataframe\">\n",
       "  <thead>\n",
       "    <tr style=\"text-align: right;\">\n",
       "      <th></th>\n",
       "      <th>Airline</th>\n",
       "      <th>Date_of_Journey</th>\n",
       "      <th>Source</th>\n",
       "      <th>Destination</th>\n",
       "      <th>Route</th>\n",
       "      <th>Dep_Time</th>\n",
       "      <th>Arrival_Time</th>\n",
       "      <th>Duration</th>\n",
       "      <th>Total_Stops</th>\n",
       "      <th>Additional_Info</th>\n",
       "    </tr>\n",
       "  </thead>\n",
       "  <tbody>\n",
       "    <tr>\n",
       "      <th>2661</th>\n",
       "      <td>Jet Airways</td>\n",
       "      <td>27/03/2019</td>\n",
       "      <td>Delhi</td>\n",
       "      <td>Cochin</td>\n",
       "      <td>DEL → AMD → BOM → COK</td>\n",
       "      <td>19:10</td>\n",
       "      <td>04:25 29 Mar</td>\n",
       "      <td>33h 15m</td>\n",
       "      <td>2 stops</td>\n",
       "      <td>No info</td>\n",
       "    </tr>\n",
       "    <tr>\n",
       "      <th>2662</th>\n",
       "      <td>Air India</td>\n",
       "      <td>21/05/2019</td>\n",
       "      <td>Mumbai</td>\n",
       "      <td>Hyderabad</td>\n",
       "      <td>BOM → HYD</td>\n",
       "      <td>13:55</td>\n",
       "      <td>15:25</td>\n",
       "      <td>1h 30m</td>\n",
       "      <td>non-stop</td>\n",
       "      <td>No info</td>\n",
       "    </tr>\n",
       "    <tr>\n",
       "      <th>2663</th>\n",
       "      <td>GoAir</td>\n",
       "      <td>12/05/2019</td>\n",
       "      <td>Kolkata</td>\n",
       "      <td>Banglore</td>\n",
       "      <td>CCU → BOM → BLR</td>\n",
       "      <td>23:30</td>\n",
       "      <td>07:45 13 May</td>\n",
       "      <td>8h 15m</td>\n",
       "      <td>1 stop</td>\n",
       "      <td>No info</td>\n",
       "    </tr>\n",
       "    <tr>\n",
       "      <th>2664</th>\n",
       "      <td>Multiple carriers</td>\n",
       "      <td>15/06/2019</td>\n",
       "      <td>Delhi</td>\n",
       "      <td>Cochin</td>\n",
       "      <td>DEL → BOM → COK</td>\n",
       "      <td>15:15</td>\n",
       "      <td>01:30 16 Jun</td>\n",
       "      <td>10h 15m</td>\n",
       "      <td>1 stop</td>\n",
       "      <td>No info</td>\n",
       "    </tr>\n",
       "    <tr>\n",
       "      <th>2665</th>\n",
       "      <td>SpiceJet</td>\n",
       "      <td>21/06/2019</td>\n",
       "      <td>Mumbai</td>\n",
       "      <td>Hyderabad</td>\n",
       "      <td>BOM → HYD</td>\n",
       "      <td>22:45</td>\n",
       "      <td>00:15 22 Jun</td>\n",
       "      <td>1h 30m</td>\n",
       "      <td>non-stop</td>\n",
       "      <td>No check-in baggage included</td>\n",
       "    </tr>\n",
       "    <tr>\n",
       "      <th>2666</th>\n",
       "      <td>Air India</td>\n",
       "      <td>6/06/2019</td>\n",
       "      <td>Kolkata</td>\n",
       "      <td>Banglore</td>\n",
       "      <td>CCU → DEL → BLR</td>\n",
       "      <td>20:30</td>\n",
       "      <td>20:25 07 Jun</td>\n",
       "      <td>23h 55m</td>\n",
       "      <td>1 stop</td>\n",
       "      <td>No info</td>\n",
       "    </tr>\n",
       "    <tr>\n",
       "      <th>2667</th>\n",
       "      <td>IndiGo</td>\n",
       "      <td>27/03/2019</td>\n",
       "      <td>Kolkata</td>\n",
       "      <td>Banglore</td>\n",
       "      <td>CCU → BLR</td>\n",
       "      <td>14:20</td>\n",
       "      <td>16:55</td>\n",
       "      <td>2h 35m</td>\n",
       "      <td>non-stop</td>\n",
       "      <td>No info</td>\n",
       "    </tr>\n",
       "    <tr>\n",
       "      <th>2668</th>\n",
       "      <td>Jet Airways</td>\n",
       "      <td>6/03/2019</td>\n",
       "      <td>Delhi</td>\n",
       "      <td>Cochin</td>\n",
       "      <td>DEL → BOM → COK</td>\n",
       "      <td>21:50</td>\n",
       "      <td>04:25 07 Mar</td>\n",
       "      <td>6h 35m</td>\n",
       "      <td>1 stop</td>\n",
       "      <td>No info</td>\n",
       "    </tr>\n",
       "    <tr>\n",
       "      <th>2669</th>\n",
       "      <td>Air India</td>\n",
       "      <td>6/03/2019</td>\n",
       "      <td>Delhi</td>\n",
       "      <td>Cochin</td>\n",
       "      <td>DEL → BOM → COK</td>\n",
       "      <td>04:00</td>\n",
       "      <td>19:15</td>\n",
       "      <td>15h 15m</td>\n",
       "      <td>1 stop</td>\n",
       "      <td>No info</td>\n",
       "    </tr>\n",
       "    <tr>\n",
       "      <th>2670</th>\n",
       "      <td>Multiple carriers</td>\n",
       "      <td>15/06/2019</td>\n",
       "      <td>Delhi</td>\n",
       "      <td>Cochin</td>\n",
       "      <td>DEL → BOM → COK</td>\n",
       "      <td>04:55</td>\n",
       "      <td>19:15</td>\n",
       "      <td>14h 20m</td>\n",
       "      <td>1 stop</td>\n",
       "      <td>No info</td>\n",
       "    </tr>\n",
       "  </tbody>\n",
       "</table>\n",
       "</div>"
      ],
      "text/plain": [
       "                Airline Date_of_Journey   Source Destination  \\\n",
       "2661        Jet Airways      27/03/2019    Delhi      Cochin   \n",
       "2662          Air India      21/05/2019   Mumbai   Hyderabad   \n",
       "2663              GoAir      12/05/2019  Kolkata    Banglore   \n",
       "2664  Multiple carriers      15/06/2019    Delhi      Cochin   \n",
       "2665           SpiceJet      21/06/2019   Mumbai   Hyderabad   \n",
       "2666          Air India       6/06/2019  Kolkata    Banglore   \n",
       "2667             IndiGo      27/03/2019  Kolkata    Banglore   \n",
       "2668        Jet Airways       6/03/2019    Delhi      Cochin   \n",
       "2669          Air India       6/03/2019    Delhi      Cochin   \n",
       "2670  Multiple carriers      15/06/2019    Delhi      Cochin   \n",
       "\n",
       "                      Route Dep_Time  Arrival_Time Duration Total_Stops  \\\n",
       "2661  DEL → AMD → BOM → COK    19:10  04:25 29 Mar  33h 15m     2 stops   \n",
       "2662              BOM → HYD    13:55         15:25   1h 30m    non-stop   \n",
       "2663        CCU → BOM → BLR    23:30  07:45 13 May   8h 15m      1 stop   \n",
       "2664        DEL → BOM → COK    15:15  01:30 16 Jun  10h 15m      1 stop   \n",
       "2665              BOM → HYD    22:45  00:15 22 Jun   1h 30m    non-stop   \n",
       "2666        CCU → DEL → BLR    20:30  20:25 07 Jun  23h 55m      1 stop   \n",
       "2667              CCU → BLR    14:20         16:55   2h 35m    non-stop   \n",
       "2668        DEL → BOM → COK    21:50  04:25 07 Mar   6h 35m      1 stop   \n",
       "2669        DEL → BOM → COK    04:00         19:15  15h 15m      1 stop   \n",
       "2670        DEL → BOM → COK    04:55         19:15  14h 20m      1 stop   \n",
       "\n",
       "                   Additional_Info  \n",
       "2661                       No info  \n",
       "2662                       No info  \n",
       "2663                       No info  \n",
       "2664                       No info  \n",
       "2665  No check-in baggage included  \n",
       "2666                       No info  \n",
       "2667                       No info  \n",
       "2668                       No info  \n",
       "2669                       No info  \n",
       "2670                       No info  "
      ]
     },
     "execution_count": 13,
     "metadata": {},
     "output_type": "execute_result"
    }
   ],
   "source": [
    "flight_test.tail(10)"
   ]
  },
  {
   "cell_type": "code",
   "execution_count": 14,
   "metadata": {},
   "outputs": [
    {
     "name": "stdout",
     "output_type": "stream",
     "text": [
      "<class 'pandas.core.frame.DataFrame'>\n",
      "RangeIndex: 10683 entries, 0 to 10682\n",
      "Data columns (total 11 columns):\n",
      " #   Column           Non-Null Count  Dtype \n",
      "---  ------           --------------  ----- \n",
      " 0   Airline          10683 non-null  object\n",
      " 1   Date_of_Journey  10683 non-null  object\n",
      " 2   Source           10683 non-null  object\n",
      " 3   Destination      10683 non-null  object\n",
      " 4   Route            10682 non-null  object\n",
      " 5   Dep_Time         10683 non-null  object\n",
      " 6   Arrival_Time     10683 non-null  object\n",
      " 7   Duration         10683 non-null  object\n",
      " 8   Total_Stops      10682 non-null  object\n",
      " 9   Additional_Info  10683 non-null  object\n",
      " 10  Price            10683 non-null  int64 \n",
      "dtypes: int64(1), object(10)\n",
      "memory usage: 918.2+ KB\n"
     ]
    }
   ],
   "source": [
    "flight_train.info()"
   ]
  },
  {
   "cell_type": "code",
   "execution_count": 15,
   "metadata": {},
   "outputs": [
    {
     "name": "stdout",
     "output_type": "stream",
     "text": [
      "<class 'pandas.core.frame.DataFrame'>\n",
      "RangeIndex: 2671 entries, 0 to 2670\n",
      "Data columns (total 10 columns):\n",
      " #   Column           Non-Null Count  Dtype \n",
      "---  ------           --------------  ----- \n",
      " 0   Airline          2671 non-null   object\n",
      " 1   Date_of_Journey  2671 non-null   object\n",
      " 2   Source           2671 non-null   object\n",
      " 3   Destination      2671 non-null   object\n",
      " 4   Route            2671 non-null   object\n",
      " 5   Dep_Time         2671 non-null   object\n",
      " 6   Arrival_Time     2671 non-null   object\n",
      " 7   Duration         2671 non-null   object\n",
      " 8   Total_Stops      2671 non-null   object\n",
      " 9   Additional_Info  2671 non-null   object\n",
      "dtypes: object(10)\n",
      "memory usage: 208.8+ KB\n"
     ]
    }
   ],
   "source": [
    "flight_test.info()"
   ]
  },
  {
   "cell_type": "code",
   "execution_count": 16,
   "metadata": {},
   "outputs": [
    {
     "data": {
      "text/plain": [
       "(10683, 11)"
      ]
     },
     "execution_count": 16,
     "metadata": {},
     "output_type": "execute_result"
    }
   ],
   "source": [
    "flight_train.shape"
   ]
  },
  {
   "cell_type": "code",
   "execution_count": 17,
   "metadata": {},
   "outputs": [
    {
     "data": {
      "text/plain": [
       "(2671, 10)"
      ]
     },
     "execution_count": 17,
     "metadata": {},
     "output_type": "execute_result"
    }
   ],
   "source": [
    "flight_test.shape"
   ]
  },
  {
   "cell_type": "markdown",
   "metadata": {},
   "source": [
    "We have 10683 Rows and 11 columns for Train Dataset and 2671 Rows and 10 Columns for Test Dataset."
   ]
  },
  {
   "cell_type": "code",
   "execution_count": 19,
   "metadata": {},
   "outputs": [
    {
     "data": {
      "text/plain": [
       "Airline            object\n",
       "Date_of_Journey    object\n",
       "Source             object\n",
       "Destination        object\n",
       "Route              object\n",
       "Dep_Time           object\n",
       "Arrival_Time       object\n",
       "Duration           object\n",
       "Total_Stops        object\n",
       "Additional_Info    object\n",
       "Price               int64\n",
       "dtype: object"
      ]
     },
     "execution_count": 19,
     "metadata": {},
     "output_type": "execute_result"
    }
   ],
   "source": [
    "# Checking datatypes\n",
    "\n",
    "flight_train.dtypes"
   ]
  },
  {
   "cell_type": "code",
   "execution_count": 20,
   "metadata": {},
   "outputs": [
    {
     "data": {
      "text/plain": [
       "Airline            object\n",
       "Date_of_Journey    object\n",
       "Source             object\n",
       "Destination        object\n",
       "Route              object\n",
       "Dep_Time           object\n",
       "Arrival_Time       object\n",
       "Duration           object\n",
       "Total_Stops        object\n",
       "Additional_Info    object\n",
       "dtype: object"
      ]
     },
     "execution_count": 20,
     "metadata": {},
     "output_type": "execute_result"
    }
   ],
   "source": [
    "flight_test.dtypes"
   ]
  },
  {
   "cell_type": "markdown",
   "metadata": {},
   "source": [
    "# Checking Null Values"
   ]
  },
  {
   "cell_type": "code",
   "execution_count": 80,
   "metadata": {},
   "outputs": [
    {
     "data": {
      "text/plain": [
       "Airline            0\n",
       "Date_of_Journey    0\n",
       "Source             0\n",
       "Destination        0\n",
       "Route              1\n",
       "Dep_Time           0\n",
       "Arrival_Time       0\n",
       "Duration           0\n",
       "Total_Stops        1\n",
       "Additional_Info    0\n",
       "Price              0\n",
       "dtype: int64"
      ]
     },
     "execution_count": 80,
     "metadata": {},
     "output_type": "execute_result"
    }
   ],
   "source": [
    "# For Train Data\n",
    "\n",
    "flight_train.isnull().sum()"
   ]
  },
  {
   "cell_type": "code",
   "execution_count": 81,
   "metadata": {},
   "outputs": [
    {
     "data": {
      "text/plain": [
       "Airline            0\n",
       "Date_of_Journey    0\n",
       "Source             0\n",
       "Destination        0\n",
       "Route              0\n",
       "Dep_Time           0\n",
       "Arrival_Time       0\n",
       "Duration           0\n",
       "Total_Stops        0\n",
       "Additional_Info    0\n",
       "dtype: int64"
      ]
     },
     "execution_count": 81,
     "metadata": {},
     "output_type": "execute_result"
    }
   ],
   "source": [
    "# For Test Data\n",
    "\n",
    "flight_test.isnull().sum()"
   ]
  },
  {
   "cell_type": "markdown",
   "metadata": {},
   "source": [
    "We have only one null value in Training dataset.Thus we will drop it."
   ]
  },
  {
   "cell_type": "code",
   "execution_count": 4,
   "metadata": {},
   "outputs": [],
   "source": [
    "# Dropping Null Values\n",
    "\n",
    "flight_train=flight_train.dropna()"
   ]
  },
  {
   "cell_type": "markdown",
   "metadata": {},
   "source": [
    "# Feature Engineering"
   ]
  },
  {
   "cell_type": "markdown",
   "metadata": {},
   "source": [
    "We will convert Date of Journey column to Datetime type and extract day,month and year to separate columns.\n",
    "\n",
    "Same we will do with departure and arrival time columns.\n",
    "\n",
    "We will remove string from Duration columns and convert all the values to minutes."
   ]
  },
  {
   "cell_type": "code",
   "execution_count": 5,
   "metadata": {},
   "outputs": [],
   "source": [
    "# Converting to Timedate type and extracting to separate columns\n",
    "\n",
    "# for Train Dataset\n",
    "\n",
    "import datetime\n"
   ]
  },
  {
   "cell_type": "code",
   "execution_count": 6,
   "metadata": {},
   "outputs": [],
   "source": [
    "flight_train['Date_of_Journey']=pd.to_datetime(flight_train['Date_of_Journey'])\n",
    "flight_train['Dep_Time']=pd.to_datetime(flight_train['Dep_Time'])\n",
    "flight_train['Arrival_Time']=pd.to_datetime(flight_train['Arrival_Time'])"
   ]
  },
  {
   "cell_type": "code",
   "execution_count": 7,
   "metadata": {},
   "outputs": [],
   "source": [
    "# Extracting to separate columns\n",
    "\n",
    "flight_train['Day']=flight_train['Date_of_Journey'].dt.day\n",
    "flight_train['Month']=flight_train['Date_of_Journey'].dt.month\n",
    "flight_train['Year']=flight_train['Date_of_Journey'].dt.year\n",
    "flight_train['Dep_Hours']=flight_train['Dep_Time'].dt.hour\n",
    "flight_train['Dep_Minutes']=flight_train['Dep_Time'].dt.minute\n",
    "flight_train['Arrival_Hours']=flight_train['Arrival_Time'].dt.hour\n",
    "flight_train['Arrival_Minutes']=flight_train['Arrival_Time'].dt.minute"
   ]
  },
  {
   "cell_type": "code",
   "execution_count": 10,
   "metadata": {},
   "outputs": [
    {
     "data": {
      "text/html": [
       "<div>\n",
       "<style scoped>\n",
       "    .dataframe tbody tr th:only-of-type {\n",
       "        vertical-align: middle;\n",
       "    }\n",
       "\n",
       "    .dataframe tbody tr th {\n",
       "        vertical-align: top;\n",
       "    }\n",
       "\n",
       "    .dataframe thead th {\n",
       "        text-align: right;\n",
       "    }\n",
       "</style>\n",
       "<table border=\"1\" class=\"dataframe\">\n",
       "  <thead>\n",
       "    <tr style=\"text-align: right;\">\n",
       "      <th></th>\n",
       "      <th>Airline</th>\n",
       "      <th>Date_of_Journey</th>\n",
       "      <th>Source</th>\n",
       "      <th>Destination</th>\n",
       "      <th>Route</th>\n",
       "      <th>Dep_Time</th>\n",
       "      <th>Arrival_Time</th>\n",
       "      <th>Duration</th>\n",
       "      <th>Total_Stops</th>\n",
       "      <th>Additional_Info</th>\n",
       "      <th>Price</th>\n",
       "      <th>Day</th>\n",
       "      <th>Month</th>\n",
       "      <th>Year</th>\n",
       "      <th>Dep_Hours</th>\n",
       "      <th>Dep_Minutes</th>\n",
       "      <th>Arrival_Hours</th>\n",
       "      <th>Arrival_Minutes</th>\n",
       "    </tr>\n",
       "  </thead>\n",
       "  <tbody>\n",
       "    <tr>\n",
       "      <th>0</th>\n",
       "      <td>IndiGo</td>\n",
       "      <td>2019-03-24</td>\n",
       "      <td>Banglore</td>\n",
       "      <td>New Delhi</td>\n",
       "      <td>BLR → DEL</td>\n",
       "      <td>2021-04-11 22:20:00</td>\n",
       "      <td>2021-03-22 01:10:00</td>\n",
       "      <td>2h 50m</td>\n",
       "      <td>non-stop</td>\n",
       "      <td>No info</td>\n",
       "      <td>3897</td>\n",
       "      <td>24</td>\n",
       "      <td>3</td>\n",
       "      <td>2019</td>\n",
       "      <td>22</td>\n",
       "      <td>20</td>\n",
       "      <td>1</td>\n",
       "      <td>10</td>\n",
       "    </tr>\n",
       "    <tr>\n",
       "      <th>1</th>\n",
       "      <td>Air India</td>\n",
       "      <td>2019-01-05</td>\n",
       "      <td>Kolkata</td>\n",
       "      <td>Banglore</td>\n",
       "      <td>CCU → IXR → BBI → BLR</td>\n",
       "      <td>2021-04-11 05:50:00</td>\n",
       "      <td>2021-04-11 13:15:00</td>\n",
       "      <td>7h 25m</td>\n",
       "      <td>2 stops</td>\n",
       "      <td>No info</td>\n",
       "      <td>7662</td>\n",
       "      <td>5</td>\n",
       "      <td>1</td>\n",
       "      <td>2019</td>\n",
       "      <td>5</td>\n",
       "      <td>50</td>\n",
       "      <td>13</td>\n",
       "      <td>15</td>\n",
       "    </tr>\n",
       "    <tr>\n",
       "      <th>2</th>\n",
       "      <td>Jet Airways</td>\n",
       "      <td>2019-09-06</td>\n",
       "      <td>Delhi</td>\n",
       "      <td>Cochin</td>\n",
       "      <td>DEL → LKO → BOM → COK</td>\n",
       "      <td>2021-04-11 09:25:00</td>\n",
       "      <td>2021-06-10 04:25:00</td>\n",
       "      <td>19h</td>\n",
       "      <td>2 stops</td>\n",
       "      <td>No info</td>\n",
       "      <td>13882</td>\n",
       "      <td>6</td>\n",
       "      <td>9</td>\n",
       "      <td>2019</td>\n",
       "      <td>9</td>\n",
       "      <td>25</td>\n",
       "      <td>4</td>\n",
       "      <td>25</td>\n",
       "    </tr>\n",
       "    <tr>\n",
       "      <th>3</th>\n",
       "      <td>IndiGo</td>\n",
       "      <td>2019-12-05</td>\n",
       "      <td>Kolkata</td>\n",
       "      <td>Banglore</td>\n",
       "      <td>CCU → NAG → BLR</td>\n",
       "      <td>2021-04-11 18:05:00</td>\n",
       "      <td>2021-04-11 23:30:00</td>\n",
       "      <td>5h 25m</td>\n",
       "      <td>1 stop</td>\n",
       "      <td>No info</td>\n",
       "      <td>6218</td>\n",
       "      <td>5</td>\n",
       "      <td>12</td>\n",
       "      <td>2019</td>\n",
       "      <td>18</td>\n",
       "      <td>5</td>\n",
       "      <td>23</td>\n",
       "      <td>30</td>\n",
       "    </tr>\n",
       "    <tr>\n",
       "      <th>4</th>\n",
       "      <td>IndiGo</td>\n",
       "      <td>2019-01-03</td>\n",
       "      <td>Banglore</td>\n",
       "      <td>New Delhi</td>\n",
       "      <td>BLR → NAG → DEL</td>\n",
       "      <td>2021-04-11 16:50:00</td>\n",
       "      <td>2021-04-11 21:35:00</td>\n",
       "      <td>4h 45m</td>\n",
       "      <td>1 stop</td>\n",
       "      <td>No info</td>\n",
       "      <td>13302</td>\n",
       "      <td>3</td>\n",
       "      <td>1</td>\n",
       "      <td>2019</td>\n",
       "      <td>16</td>\n",
       "      <td>50</td>\n",
       "      <td>21</td>\n",
       "      <td>35</td>\n",
       "    </tr>\n",
       "  </tbody>\n",
       "</table>\n",
       "</div>"
      ],
      "text/plain": [
       "       Airline Date_of_Journey    Source Destination                  Route  \\\n",
       "0       IndiGo      2019-03-24  Banglore   New Delhi              BLR → DEL   \n",
       "1    Air India      2019-01-05   Kolkata    Banglore  CCU → IXR → BBI → BLR   \n",
       "2  Jet Airways      2019-09-06     Delhi      Cochin  DEL → LKO → BOM → COK   \n",
       "3       IndiGo      2019-12-05   Kolkata    Banglore        CCU → NAG → BLR   \n",
       "4       IndiGo      2019-01-03  Banglore   New Delhi        BLR → NAG → DEL   \n",
       "\n",
       "             Dep_Time        Arrival_Time Duration Total_Stops  \\\n",
       "0 2021-04-11 22:20:00 2021-03-22 01:10:00   2h 50m    non-stop   \n",
       "1 2021-04-11 05:50:00 2021-04-11 13:15:00   7h 25m     2 stops   \n",
       "2 2021-04-11 09:25:00 2021-06-10 04:25:00      19h     2 stops   \n",
       "3 2021-04-11 18:05:00 2021-04-11 23:30:00   5h 25m      1 stop   \n",
       "4 2021-04-11 16:50:00 2021-04-11 21:35:00   4h 45m      1 stop   \n",
       "\n",
       "  Additional_Info  Price  Day  Month  Year  Dep_Hours  Dep_Minutes  \\\n",
       "0         No info   3897   24      3  2019         22           20   \n",
       "1         No info   7662    5      1  2019          5           50   \n",
       "2         No info  13882    6      9  2019          9           25   \n",
       "3         No info   6218    5     12  2019         18            5   \n",
       "4         No info  13302    3      1  2019         16           50   \n",
       "\n",
       "   Arrival_Hours  Arrival_Minutes  \n",
       "0              1               10  \n",
       "1             13               15  \n",
       "2              4               25  \n",
       "3             23               30  \n",
       "4             21               35  "
      ]
     },
     "execution_count": 10,
     "metadata": {},
     "output_type": "execute_result"
    }
   ],
   "source": [
    "flight_train.head()"
   ]
  },
  {
   "cell_type": "code",
   "execution_count": 8,
   "metadata": {},
   "outputs": [],
   "source": [
    "# For Test Dataset\n",
    "\n",
    "flight_test['Date_of_Journey']=pd.to_datetime(flight_test['Date_of_Journey'])\n",
    "flight_test['Dep_Time']=pd.to_datetime(flight_test['Dep_Time'])\n",
    "flight_test['Arrival_Time']=pd.to_datetime(flight_test['Arrival_Time'])"
   ]
  },
  {
   "cell_type": "code",
   "execution_count": 9,
   "metadata": {},
   "outputs": [],
   "source": [
    "# Extracting to separate columns\n",
    "\n",
    "flight_test['Day']=flight_test['Date_of_Journey'].dt.day\n",
    "flight_test['Month']=flight_test['Date_of_Journey'].dt.month\n",
    "flight_test['Year']=flight_test['Date_of_Journey'].dt.year\n",
    "flight_test['Dep_Hours']=flight_test['Dep_Time'].dt.hour\n",
    "flight_test['Dep_Minutes']=flight_test['Dep_Time'].dt.minute\n",
    "flight_test['Arrival_Hours']=flight_test['Arrival_Time'].dt.hour\n",
    "flight_test['Arrival_Minutes']=flight_test['Arrival_Time'].dt.minute"
   ]
  },
  {
   "cell_type": "code",
   "execution_count": 99,
   "metadata": {},
   "outputs": [
    {
     "data": {
      "text/html": [
       "<div>\n",
       "<style scoped>\n",
       "    .dataframe tbody tr th:only-of-type {\n",
       "        vertical-align: middle;\n",
       "    }\n",
       "\n",
       "    .dataframe tbody tr th {\n",
       "        vertical-align: top;\n",
       "    }\n",
       "\n",
       "    .dataframe thead th {\n",
       "        text-align: right;\n",
       "    }\n",
       "</style>\n",
       "<table border=\"1\" class=\"dataframe\">\n",
       "  <thead>\n",
       "    <tr style=\"text-align: right;\">\n",
       "      <th></th>\n",
       "      <th>Airline</th>\n",
       "      <th>Date_of_Journey</th>\n",
       "      <th>Source</th>\n",
       "      <th>Destination</th>\n",
       "      <th>Route</th>\n",
       "      <th>Dep_Time</th>\n",
       "      <th>Arrival_Time</th>\n",
       "      <th>Duration</th>\n",
       "      <th>Total_Stops</th>\n",
       "      <th>Additional_Info</th>\n",
       "      <th>Day</th>\n",
       "      <th>Month</th>\n",
       "      <th>Year</th>\n",
       "      <th>Dep_Hours</th>\n",
       "      <th>Dep_Minutes</th>\n",
       "      <th>Arrival_Hours</th>\n",
       "      <th>Arrival_Minutes</th>\n",
       "    </tr>\n",
       "  </thead>\n",
       "  <tbody>\n",
       "    <tr>\n",
       "      <th>0</th>\n",
       "      <td>Jet Airways</td>\n",
       "      <td>2019-06-06</td>\n",
       "      <td>Delhi</td>\n",
       "      <td>Cochin</td>\n",
       "      <td>DEL → BOM → COK</td>\n",
       "      <td>2021-04-11 17:30:00</td>\n",
       "      <td>2021-06-07 04:25:00</td>\n",
       "      <td>10h 55m</td>\n",
       "      <td>1 stop</td>\n",
       "      <td>No info</td>\n",
       "      <td>6</td>\n",
       "      <td>6</td>\n",
       "      <td>2019</td>\n",
       "      <td>17</td>\n",
       "      <td>30</td>\n",
       "      <td>4</td>\n",
       "      <td>25</td>\n",
       "    </tr>\n",
       "    <tr>\n",
       "      <th>1</th>\n",
       "      <td>IndiGo</td>\n",
       "      <td>2019-12-05</td>\n",
       "      <td>Kolkata</td>\n",
       "      <td>Banglore</td>\n",
       "      <td>CCU → MAA → BLR</td>\n",
       "      <td>2021-04-11 06:20:00</td>\n",
       "      <td>2021-04-11 10:20:00</td>\n",
       "      <td>4h</td>\n",
       "      <td>1 stop</td>\n",
       "      <td>No info</td>\n",
       "      <td>5</td>\n",
       "      <td>12</td>\n",
       "      <td>2019</td>\n",
       "      <td>6</td>\n",
       "      <td>20</td>\n",
       "      <td>10</td>\n",
       "      <td>20</td>\n",
       "    </tr>\n",
       "    <tr>\n",
       "      <th>2</th>\n",
       "      <td>Jet Airways</td>\n",
       "      <td>2019-05-21</td>\n",
       "      <td>Delhi</td>\n",
       "      <td>Cochin</td>\n",
       "      <td>DEL → BOM → COK</td>\n",
       "      <td>2021-04-11 19:15:00</td>\n",
       "      <td>2021-05-22 19:00:00</td>\n",
       "      <td>23h 45m</td>\n",
       "      <td>1 stop</td>\n",
       "      <td>In-flight meal not included</td>\n",
       "      <td>21</td>\n",
       "      <td>5</td>\n",
       "      <td>2019</td>\n",
       "      <td>19</td>\n",
       "      <td>15</td>\n",
       "      <td>19</td>\n",
       "      <td>0</td>\n",
       "    </tr>\n",
       "    <tr>\n",
       "      <th>3</th>\n",
       "      <td>Multiple carriers</td>\n",
       "      <td>2019-05-21</td>\n",
       "      <td>Delhi</td>\n",
       "      <td>Cochin</td>\n",
       "      <td>DEL → BOM → COK</td>\n",
       "      <td>2021-04-11 08:00:00</td>\n",
       "      <td>2021-04-11 21:00:00</td>\n",
       "      <td>13h</td>\n",
       "      <td>1 stop</td>\n",
       "      <td>No info</td>\n",
       "      <td>21</td>\n",
       "      <td>5</td>\n",
       "      <td>2019</td>\n",
       "      <td>8</td>\n",
       "      <td>0</td>\n",
       "      <td>21</td>\n",
       "      <td>0</td>\n",
       "    </tr>\n",
       "    <tr>\n",
       "      <th>4</th>\n",
       "      <td>Air Asia</td>\n",
       "      <td>2019-06-24</td>\n",
       "      <td>Banglore</td>\n",
       "      <td>Delhi</td>\n",
       "      <td>BLR → DEL</td>\n",
       "      <td>2021-04-11 23:55:00</td>\n",
       "      <td>2021-06-25 02:45:00</td>\n",
       "      <td>2h 50m</td>\n",
       "      <td>non-stop</td>\n",
       "      <td>No info</td>\n",
       "      <td>24</td>\n",
       "      <td>6</td>\n",
       "      <td>2019</td>\n",
       "      <td>23</td>\n",
       "      <td>55</td>\n",
       "      <td>2</td>\n",
       "      <td>45</td>\n",
       "    </tr>\n",
       "  </tbody>\n",
       "</table>\n",
       "</div>"
      ],
      "text/plain": [
       "             Airline Date_of_Journey    Source Destination            Route  \\\n",
       "0        Jet Airways      2019-06-06     Delhi      Cochin  DEL → BOM → COK   \n",
       "1             IndiGo      2019-12-05   Kolkata    Banglore  CCU → MAA → BLR   \n",
       "2        Jet Airways      2019-05-21     Delhi      Cochin  DEL → BOM → COK   \n",
       "3  Multiple carriers      2019-05-21     Delhi      Cochin  DEL → BOM → COK   \n",
       "4           Air Asia      2019-06-24  Banglore       Delhi        BLR → DEL   \n",
       "\n",
       "             Dep_Time        Arrival_Time Duration Total_Stops  \\\n",
       "0 2021-04-11 17:30:00 2021-06-07 04:25:00  10h 55m      1 stop   \n",
       "1 2021-04-11 06:20:00 2021-04-11 10:20:00       4h      1 stop   \n",
       "2 2021-04-11 19:15:00 2021-05-22 19:00:00  23h 45m      1 stop   \n",
       "3 2021-04-11 08:00:00 2021-04-11 21:00:00      13h      1 stop   \n",
       "4 2021-04-11 23:55:00 2021-06-25 02:45:00   2h 50m    non-stop   \n",
       "\n",
       "               Additional_Info  Day  Month  Year  Dep_Hours  Dep_Minutes  \\\n",
       "0                      No info    6      6  2019         17           30   \n",
       "1                      No info    5     12  2019          6           20   \n",
       "2  In-flight meal not included   21      5  2019         19           15   \n",
       "3                      No info   21      5  2019          8            0   \n",
       "4                      No info   24      6  2019         23           55   \n",
       "\n",
       "   Arrival_Hours  Arrival_Minutes  \n",
       "0              4               25  \n",
       "1             10               20  \n",
       "2             19                0  \n",
       "3             21                0  \n",
       "4              2               45  "
      ]
     },
     "execution_count": 99,
     "metadata": {},
     "output_type": "execute_result"
    }
   ],
   "source": [
    "flight_test.head()"
   ]
  },
  {
   "cell_type": "code",
   "execution_count": 10,
   "metadata": {},
   "outputs": [],
   "source": [
    "# Dropping Columns from Datasets\n",
    "\n",
    "flight_train=flight_train.drop(['Date_of_Journey','Dep_Time','Arrival_Time'],axis=1)\n",
    "flight_test=flight_test.drop(['Date_of_Journey','Dep_Time','Arrival_Time'],axis=1)"
   ]
  },
  {
   "cell_type": "code",
   "execution_count": 14,
   "metadata": {},
   "outputs": [
    {
     "data": {
      "text/html": [
       "<div>\n",
       "<style scoped>\n",
       "    .dataframe tbody tr th:only-of-type {\n",
       "        vertical-align: middle;\n",
       "    }\n",
       "\n",
       "    .dataframe tbody tr th {\n",
       "        vertical-align: top;\n",
       "    }\n",
       "\n",
       "    .dataframe thead th {\n",
       "        text-align: right;\n",
       "    }\n",
       "</style>\n",
       "<table border=\"1\" class=\"dataframe\">\n",
       "  <thead>\n",
       "    <tr style=\"text-align: right;\">\n",
       "      <th></th>\n",
       "      <th>Airline</th>\n",
       "      <th>Source</th>\n",
       "      <th>Destination</th>\n",
       "      <th>Route</th>\n",
       "      <th>Duration</th>\n",
       "      <th>Total_Stops</th>\n",
       "      <th>Additional_Info</th>\n",
       "      <th>Price</th>\n",
       "      <th>Day</th>\n",
       "      <th>Month</th>\n",
       "      <th>Year</th>\n",
       "      <th>Dep_Hours</th>\n",
       "      <th>Dep_Minutes</th>\n",
       "      <th>Arrival_Hours</th>\n",
       "      <th>Arrival_Minutes</th>\n",
       "    </tr>\n",
       "  </thead>\n",
       "  <tbody>\n",
       "    <tr>\n",
       "      <th>0</th>\n",
       "      <td>IndiGo</td>\n",
       "      <td>Banglore</td>\n",
       "      <td>New Delhi</td>\n",
       "      <td>BLR → DEL</td>\n",
       "      <td>2h 50m</td>\n",
       "      <td>non-stop</td>\n",
       "      <td>No info</td>\n",
       "      <td>3897</td>\n",
       "      <td>24</td>\n",
       "      <td>3</td>\n",
       "      <td>2019</td>\n",
       "      <td>22</td>\n",
       "      <td>20</td>\n",
       "      <td>1</td>\n",
       "      <td>10</td>\n",
       "    </tr>\n",
       "    <tr>\n",
       "      <th>1</th>\n",
       "      <td>Air India</td>\n",
       "      <td>Kolkata</td>\n",
       "      <td>Banglore</td>\n",
       "      <td>CCU → IXR → BBI → BLR</td>\n",
       "      <td>7h 25m</td>\n",
       "      <td>2 stops</td>\n",
       "      <td>No info</td>\n",
       "      <td>7662</td>\n",
       "      <td>5</td>\n",
       "      <td>1</td>\n",
       "      <td>2019</td>\n",
       "      <td>5</td>\n",
       "      <td>50</td>\n",
       "      <td>13</td>\n",
       "      <td>15</td>\n",
       "    </tr>\n",
       "    <tr>\n",
       "      <th>2</th>\n",
       "      <td>Jet Airways</td>\n",
       "      <td>Delhi</td>\n",
       "      <td>Cochin</td>\n",
       "      <td>DEL → LKO → BOM → COK</td>\n",
       "      <td>19h</td>\n",
       "      <td>2 stops</td>\n",
       "      <td>No info</td>\n",
       "      <td>13882</td>\n",
       "      <td>6</td>\n",
       "      <td>9</td>\n",
       "      <td>2019</td>\n",
       "      <td>9</td>\n",
       "      <td>25</td>\n",
       "      <td>4</td>\n",
       "      <td>25</td>\n",
       "    </tr>\n",
       "    <tr>\n",
       "      <th>3</th>\n",
       "      <td>IndiGo</td>\n",
       "      <td>Kolkata</td>\n",
       "      <td>Banglore</td>\n",
       "      <td>CCU → NAG → BLR</td>\n",
       "      <td>5h 25m</td>\n",
       "      <td>1 stop</td>\n",
       "      <td>No info</td>\n",
       "      <td>6218</td>\n",
       "      <td>5</td>\n",
       "      <td>12</td>\n",
       "      <td>2019</td>\n",
       "      <td>18</td>\n",
       "      <td>5</td>\n",
       "      <td>23</td>\n",
       "      <td>30</td>\n",
       "    </tr>\n",
       "    <tr>\n",
       "      <th>4</th>\n",
       "      <td>IndiGo</td>\n",
       "      <td>Banglore</td>\n",
       "      <td>New Delhi</td>\n",
       "      <td>BLR → NAG → DEL</td>\n",
       "      <td>4h 45m</td>\n",
       "      <td>1 stop</td>\n",
       "      <td>No info</td>\n",
       "      <td>13302</td>\n",
       "      <td>3</td>\n",
       "      <td>1</td>\n",
       "      <td>2019</td>\n",
       "      <td>16</td>\n",
       "      <td>50</td>\n",
       "      <td>21</td>\n",
       "      <td>35</td>\n",
       "    </tr>\n",
       "  </tbody>\n",
       "</table>\n",
       "</div>"
      ],
      "text/plain": [
       "       Airline    Source Destination                  Route Duration  \\\n",
       "0       IndiGo  Banglore   New Delhi              BLR → DEL   2h 50m   \n",
       "1    Air India   Kolkata    Banglore  CCU → IXR → BBI → BLR   7h 25m   \n",
       "2  Jet Airways     Delhi      Cochin  DEL → LKO → BOM → COK      19h   \n",
       "3       IndiGo   Kolkata    Banglore        CCU → NAG → BLR   5h 25m   \n",
       "4       IndiGo  Banglore   New Delhi        BLR → NAG → DEL   4h 45m   \n",
       "\n",
       "  Total_Stops Additional_Info  Price  Day  Month  Year  Dep_Hours  \\\n",
       "0    non-stop         No info   3897   24      3  2019         22   \n",
       "1     2 stops         No info   7662    5      1  2019          5   \n",
       "2     2 stops         No info  13882    6      9  2019          9   \n",
       "3      1 stop         No info   6218    5     12  2019         18   \n",
       "4      1 stop         No info  13302    3      1  2019         16   \n",
       "\n",
       "   Dep_Minutes  Arrival_Hours  Arrival_Minutes  \n",
       "0           20              1               10  \n",
       "1           50             13               15  \n",
       "2           25              4               25  \n",
       "3            5             23               30  \n",
       "4           50             21               35  "
      ]
     },
     "execution_count": 14,
     "metadata": {},
     "output_type": "execute_result"
    }
   ],
   "source": [
    "flight_train.head()"
   ]
  },
  {
   "cell_type": "code",
   "execution_count": 15,
   "metadata": {},
   "outputs": [
    {
     "data": {
      "text/html": [
       "<div>\n",
       "<style scoped>\n",
       "    .dataframe tbody tr th:only-of-type {\n",
       "        vertical-align: middle;\n",
       "    }\n",
       "\n",
       "    .dataframe tbody tr th {\n",
       "        vertical-align: top;\n",
       "    }\n",
       "\n",
       "    .dataframe thead th {\n",
       "        text-align: right;\n",
       "    }\n",
       "</style>\n",
       "<table border=\"1\" class=\"dataframe\">\n",
       "  <thead>\n",
       "    <tr style=\"text-align: right;\">\n",
       "      <th></th>\n",
       "      <th>Airline</th>\n",
       "      <th>Source</th>\n",
       "      <th>Destination</th>\n",
       "      <th>Route</th>\n",
       "      <th>Duration</th>\n",
       "      <th>Total_Stops</th>\n",
       "      <th>Additional_Info</th>\n",
       "      <th>Day</th>\n",
       "      <th>Month</th>\n",
       "      <th>Year</th>\n",
       "      <th>Dep_Hours</th>\n",
       "      <th>Dep_Minutes</th>\n",
       "      <th>Arrival_Hours</th>\n",
       "      <th>Arrival_Minutes</th>\n",
       "    </tr>\n",
       "  </thead>\n",
       "  <tbody>\n",
       "    <tr>\n",
       "      <th>0</th>\n",
       "      <td>Jet Airways</td>\n",
       "      <td>Delhi</td>\n",
       "      <td>Cochin</td>\n",
       "      <td>DEL → BOM → COK</td>\n",
       "      <td>10h 55m</td>\n",
       "      <td>1 stop</td>\n",
       "      <td>No info</td>\n",
       "      <td>6</td>\n",
       "      <td>6</td>\n",
       "      <td>2019</td>\n",
       "      <td>17</td>\n",
       "      <td>30</td>\n",
       "      <td>4</td>\n",
       "      <td>25</td>\n",
       "    </tr>\n",
       "    <tr>\n",
       "      <th>1</th>\n",
       "      <td>IndiGo</td>\n",
       "      <td>Kolkata</td>\n",
       "      <td>Banglore</td>\n",
       "      <td>CCU → MAA → BLR</td>\n",
       "      <td>4h</td>\n",
       "      <td>1 stop</td>\n",
       "      <td>No info</td>\n",
       "      <td>5</td>\n",
       "      <td>12</td>\n",
       "      <td>2019</td>\n",
       "      <td>6</td>\n",
       "      <td>20</td>\n",
       "      <td>10</td>\n",
       "      <td>20</td>\n",
       "    </tr>\n",
       "    <tr>\n",
       "      <th>2</th>\n",
       "      <td>Jet Airways</td>\n",
       "      <td>Delhi</td>\n",
       "      <td>Cochin</td>\n",
       "      <td>DEL → BOM → COK</td>\n",
       "      <td>23h 45m</td>\n",
       "      <td>1 stop</td>\n",
       "      <td>In-flight meal not included</td>\n",
       "      <td>21</td>\n",
       "      <td>5</td>\n",
       "      <td>2019</td>\n",
       "      <td>19</td>\n",
       "      <td>15</td>\n",
       "      <td>19</td>\n",
       "      <td>0</td>\n",
       "    </tr>\n",
       "    <tr>\n",
       "      <th>3</th>\n",
       "      <td>Multiple carriers</td>\n",
       "      <td>Delhi</td>\n",
       "      <td>Cochin</td>\n",
       "      <td>DEL → BOM → COK</td>\n",
       "      <td>13h</td>\n",
       "      <td>1 stop</td>\n",
       "      <td>No info</td>\n",
       "      <td>21</td>\n",
       "      <td>5</td>\n",
       "      <td>2019</td>\n",
       "      <td>8</td>\n",
       "      <td>0</td>\n",
       "      <td>21</td>\n",
       "      <td>0</td>\n",
       "    </tr>\n",
       "    <tr>\n",
       "      <th>4</th>\n",
       "      <td>Air Asia</td>\n",
       "      <td>Banglore</td>\n",
       "      <td>Delhi</td>\n",
       "      <td>BLR → DEL</td>\n",
       "      <td>2h 50m</td>\n",
       "      <td>non-stop</td>\n",
       "      <td>No info</td>\n",
       "      <td>24</td>\n",
       "      <td>6</td>\n",
       "      <td>2019</td>\n",
       "      <td>23</td>\n",
       "      <td>55</td>\n",
       "      <td>2</td>\n",
       "      <td>45</td>\n",
       "    </tr>\n",
       "  </tbody>\n",
       "</table>\n",
       "</div>"
      ],
      "text/plain": [
       "             Airline    Source Destination            Route Duration  \\\n",
       "0        Jet Airways     Delhi      Cochin  DEL → BOM → COK  10h 55m   \n",
       "1             IndiGo   Kolkata    Banglore  CCU → MAA → BLR       4h   \n",
       "2        Jet Airways     Delhi      Cochin  DEL → BOM → COK  23h 45m   \n",
       "3  Multiple carriers     Delhi      Cochin  DEL → BOM → COK      13h   \n",
       "4           Air Asia  Banglore       Delhi        BLR → DEL   2h 50m   \n",
       "\n",
       "  Total_Stops              Additional_Info  Day  Month  Year  Dep_Hours  \\\n",
       "0      1 stop                      No info    6      6  2019         17   \n",
       "1      1 stop                      No info    5     12  2019          6   \n",
       "2      1 stop  In-flight meal not included   21      5  2019         19   \n",
       "3      1 stop                      No info   21      5  2019          8   \n",
       "4    non-stop                      No info   24      6  2019         23   \n",
       "\n",
       "   Dep_Minutes  Arrival_Hours  Arrival_Minutes  \n",
       "0           30              4               25  \n",
       "1           20             10               20  \n",
       "2           15             19                0  \n",
       "3            0             21                0  \n",
       "4           55              2               45  "
      ]
     },
     "execution_count": 15,
     "metadata": {},
     "output_type": "execute_result"
    }
   ],
   "source": [
    "flight_test.head()"
   ]
  },
  {
   "cell_type": "markdown",
   "metadata": {},
   "source": [
    "Treating Duration column for Training Dataset"
   ]
  },
  {
   "cell_type": "code",
   "execution_count": 64,
   "metadata": {},
   "outputs": [
    {
     "data": {
      "text/plain": [
       "2h 50m     550\n",
       "1h 30m     386\n",
       "2h 45m     337\n",
       "2h 55m     337\n",
       "2h 35m     329\n",
       "3h         261\n",
       "2h 20m     238\n",
       "2h 30m     220\n",
       "2h 40m     158\n",
       "1h 25m     135\n",
       "2h 15m     135\n",
       "2h 25m      98\n",
       "13h 30m     97\n",
       "13h 20m     89\n",
       "3h 15m      88\n",
       "7h 30m      86\n",
       "9h 30m      85\n",
       "8h 40m      81\n",
       "7h 15m      79\n",
       "3h 5m       78\n",
       "5h 30m      72\n",
       "7h 35m      71\n",
       "8h          68\n",
       "7h 5m       65\n",
       "9h 50m      64\n",
       "9h          64\n",
       "5h          63\n",
       "5h 15m      62\n",
       "11h         62\n",
       "11h 45m     62\n",
       "1h 20m      61\n",
       "14h 25m     61\n",
       "6h 35m      60\n",
       "22h 55m     57\n",
       "10h 30m     57\n",
       "12h 10m     57\n",
       "12h 45m     56\n",
       "5h 45m      54\n",
       "16h 5m      53\n",
       "7h 20m      52\n",
       "11h 30m     52\n",
       "12h 30m     52\n",
       "15h 10m     51\n",
       "4h 55m      51\n",
       "8h 25m      50\n",
       "10h 15m     50\n",
       "10h         49\n",
       "12h         49\n",
       "10h 25m     49\n",
       "12h 15m     48\n",
       "6h 15m      47\n",
       "11h 5m      45\n",
       "5h 20m      45\n",
       "26h 55m     44\n",
       "13h         42\n",
       "14h 5m      42\n",
       "9h 15m      42\n",
       "8h 55m      42\n",
       "20h 10m     41\n",
       "9h 35m      41\n",
       "9h 20m      41\n",
       "3h 10m      40\n",
       "17h 5m      40\n",
       "23h 40m     39\n",
       "26h 35m     39\n",
       "21h 15m     39\n",
       "6h 30m      38\n",
       "27h 35m     38\n",
       "5h 5m       38\n",
       "14h 35m     38\n",
       "23h 50m     37\n",
       "6h 25m      37\n",
       "8h 30m      36\n",
       "13h 25m     36\n",
       "14h         36\n",
       "13h 15m     36\n",
       "18h 45m     36\n",
       "11h 15m     36\n",
       "12h 25m     36\n",
       "15h 20m     35\n",
       "15h 25m     35\n",
       "21h 35m     35\n",
       "13h 50m     35\n",
       "4h 50m      35\n",
       "25h 45m     35\n",
       "4h 30m      35\n",
       "8h 20m      34\n",
       "27h 20m     34\n",
       "15h 30m     33\n",
       "18h 20m     33\n",
       "16h 45m     33\n",
       "27h         32\n",
       "12h 20m     31\n",
       "14h 20m     31\n",
       "5h 25m      31\n",
       "7h 45m      31\n",
       "12h 35m     31\n",
       "21h 25m     30\n",
       "15h         30\n",
       "5h 55m      30\n",
       "23h 15m     30\n",
       "24h 45m     30\n",
       "8h 10m      30\n",
       "23h 30m     30\n",
       "26h 20m     29\n",
       "10h 20m     29\n",
       "6h 5m       29\n",
       "14h 30m     29\n",
       "6h 20m      29\n",
       "10h 40m     29\n",
       "26h 10m     29\n",
       "9h 5m       29\n",
       "9h 45m      28\n",
       "19h 55m     28\n",
       "29h 20m     28\n",
       "13h 55m     28\n",
       "16h 15m     28\n",
       "5h 10m      27\n",
       "7h 40m      27\n",
       "22h         27\n",
       "24h         27\n",
       "26h         27\n",
       "6h          26\n",
       "19h 25m     26\n",
       "12h 55m     26\n",
       "14h 55m     26\n",
       "9h 10m      26\n",
       "28h 50m     25\n",
       "8h 35m      25\n",
       "22h 5m      25\n",
       "6h 10m      25\n",
       "5h 35m      25\n",
       "15h 40m     24\n",
       "7h 50m      24\n",
       "1h 15m      24\n",
       "24h 55m     24\n",
       "23h         24\n",
       "16h 50m     24\n",
       "11h 25m     24\n",
       "7h 55m      24\n",
       "6h 40m      23\n",
       "3h 40m      23\n",
       "10h 10m     23\n",
       "24h 35m     23\n",
       "23h 35m     23\n",
       "4h 40m      23\n",
       "11h 50m     23\n",
       "16h 55m     22\n",
       "24h 50m     22\n",
       "28h 20m     22\n",
       "22h 30m     22\n",
       "22h 45m     22\n",
       "20h         22\n",
       "23h 10m     22\n",
       "25h 30m     21\n",
       "20h 55m     21\n",
       "7h          21\n",
       "13h 45m     21\n",
       "4h 35m      21\n",
       "14h 50m     21\n",
       "23h 45m     21\n",
       "27h 5m      21\n",
       "5h 40m      21\n",
       "11h 55m     21\n",
       "24h 30m     20\n",
       "12h 40m     20\n",
       "17h 25m     20\n",
       "8h 15m      20\n",
       "11h 40m     20\n",
       "25h 50m     20\n",
       "10h 55m     20\n",
       "20h 20m     19\n",
       "26h 50m     19\n",
       "15h 55m     19\n",
       "21h 20m     19\n",
       "4h 25m      19\n",
       "14h 45m     19\n",
       "16h         19\n",
       "25h 55m     19\n",
       "12h 5m      19\n",
       "22h 10m     18\n",
       "21h 40m     18\n",
       "25h 20m     17\n",
       "24h 40m     17\n",
       "22h 15m     17\n",
       "27h 10m     17\n",
       "18h 25m     17\n",
       "18h 10m     17\n",
       "20h 15m     17\n",
       "8h 5m       17\n",
       "10h 35m     17\n",
       "6h 55m      17\n",
       "16h 10m     16\n",
       "24h 10m     16\n",
       "26h 30m     16\n",
       "20h 25m     16\n",
       "1h 35m      15\n",
       "19h 5m      15\n",
       "22h 35m     15\n",
       "27h 45m     15\n",
       "30h 30m     15\n",
       "27h 40m     15\n",
       "25h 5m      14\n",
       "13h 10m     14\n",
       "10h 45m     14\n",
       "25h 35m     14\n",
       "26h 40m     14\n",
       "14h 10m     14\n",
       "23h 20m     14\n",
       "30h 20m     14\n",
       "19h 30m     14\n",
       "8h 45m      13\n",
       "5h 50m      13\n",
       "25h 40m     13\n",
       "18h         13\n",
       "9h 25m      13\n",
       "38h         13\n",
       "10h 50m     13\n",
       "28h 5m      12\n",
       "15h 15m     12\n",
       "38h 15m     12\n",
       "19h 40m     12\n",
       "21h 5m      12\n",
       "29h 35m     12\n",
       "21h 10m     12\n",
       "25h         12\n",
       "20h 35m     12\n",
       "4h          12\n",
       "17h 45m     12\n",
       "17h 55m     11\n",
       "11h 35m     11\n",
       "22h 25m     11\n",
       "23h 5m      11\n",
       "17h 20m     11\n",
       "14h 15m     11\n",
       "28h         11\n",
       "16h 35m     11\n",
       "33h 15m     11\n",
       "4h 45m      10\n",
       "17h 35m     10\n",
       "19h 15m     10\n",
       "9h 40m      10\n",
       "19h          9\n",
       "23h 55m      9\n",
       "16h 25m      9\n",
       "16h 20m      9\n",
       "29h 5m       9\n",
       "14h 40m      9\n",
       "15h 5m       9\n",
       "26h 15m      9\n",
       "25h 25m      9\n",
       "25h 15m      9\n",
       "21h 55m      9\n",
       "4h 5m        8\n",
       "29h 55m      8\n",
       "8h 50m       8\n",
       "15h 45m      8\n",
       "21h 45m      8\n",
       "26h 25m      8\n",
       "17h 30m      8\n",
       "37h 25m      8\n",
       "19h 45m      8\n",
       "20h 45m      8\n",
       "37h 20m      8\n",
       "30h 40m      7\n",
       "18h 30m      7\n",
       "18h 50m      7\n",
       "24h 15m      7\n",
       "17h 15m      7\n",
       "11h 20m      7\n",
       "16h 40m      7\n",
       "6h 45m       7\n",
       "15h 35m      7\n",
       "28h 15m      7\n",
       "19h 10m      7\n",
       "36h 10m      6\n",
       "21h          6\n",
       "15h 50m      5\n",
       "32h 5m       5\n",
       "10h 5m       5\n",
       "28h 25m      5\n",
       "30h 55m      5\n",
       "13h 5m       5\n",
       "29h 50m      5\n",
       "38h 20m      5\n",
       "17h 40m      5\n",
       "7h 25m       5\n",
       "3h 35m       5\n",
       "28h 40m      5\n",
       "21h 50m      4\n",
       "23h 25m      4\n",
       "38h 35m      4\n",
       "4h 15m       4\n",
       "26h 45m      4\n",
       "28h 10m      4\n",
       "24h 25m      4\n",
       "22h 40m      4\n",
       "24h 5m       4\n",
       "21h 30m      4\n",
       "3h 50m       3\n",
       "18h 15m      3\n",
       "16h 30m      3\n",
       "13h 40m      3\n",
       "27h 50m      3\n",
       "18h 40m      3\n",
       "12h 50m      3\n",
       "18h 35m      3\n",
       "35h 5m       3\n",
       "4h 20m       3\n",
       "26h 5m       3\n",
       "24h 20m      3\n",
       "30h          3\n",
       "25h 10m      3\n",
       "17h 50m      3\n",
       "35h 15m      2\n",
       "34h 5m       2\n",
       "9h 55m       2\n",
       "31h 55m      2\n",
       "7h 10m       2\n",
       "39h 5m       2\n",
       "20h 5m       2\n",
       "30h 45m      2\n",
       "17h 10m      2\n",
       "20h 40m      2\n",
       "34h          2\n",
       "20h 50m      2\n",
       "34h 25m      2\n",
       "18h 55m      2\n",
       "27h 25m      2\n",
       "34h 30m      2\n",
       "19h 20m      2\n",
       "6h 50m       2\n",
       "3h 55m       2\n",
       "11h 10m      2\n",
       "31h 40m      2\n",
       "28h 55m      2\n",
       "19h 35m      2\n",
       "32h 30m      2\n",
       "32h 20m      1\n",
       "3h 25m       1\n",
       "30h 10m      1\n",
       "42h 5m       1\n",
       "33h 20m      1\n",
       "30h 25m      1\n",
       "19h 50m      1\n",
       "4h 10m       1\n",
       "29h 10m      1\n",
       "28h 30m      1\n",
       "32h 55m      1\n",
       "35h 20m      1\n",
       "35h 35m      1\n",
       "47h          1\n",
       "27h 55m      1\n",
       "42h 45m      1\n",
       "31h 30m      1\n",
       "5m           1\n",
       "27h 30m      1\n",
       "40h 20m      1\n",
       "13h 35m      1\n",
       "33h 45m      1\n",
       "36h 25m      1\n",
       "37h 10m      1\n",
       "30h 15m      1\n",
       "41h 20m      1\n",
       "31h 50m      1\n",
       "47h 40m      1\n",
       "29h 40m      1\n",
       "29h 30m      1\n",
       "Name: Duration, dtype: int64"
      ]
     },
     "execution_count": 64,
     "metadata": {},
     "output_type": "execute_result"
    }
   ],
   "source": [
    "flight_train.Duration.value_counts()"
   ]
  },
  {
   "cell_type": "markdown",
   "metadata": {},
   "source": [
    "We observe an unusual entry in duration which is '5m'. Lets check which row it represents.  "
   ]
  },
  {
   "cell_type": "code",
   "execution_count": 16,
   "metadata": {},
   "outputs": [
    {
     "data": {
      "text/html": [
       "<div>\n",
       "<style scoped>\n",
       "    .dataframe tbody tr th:only-of-type {\n",
       "        vertical-align: middle;\n",
       "    }\n",
       "\n",
       "    .dataframe tbody tr th {\n",
       "        vertical-align: top;\n",
       "    }\n",
       "\n",
       "    .dataframe thead th {\n",
       "        text-align: right;\n",
       "    }\n",
       "</style>\n",
       "<table border=\"1\" class=\"dataframe\">\n",
       "  <thead>\n",
       "    <tr style=\"text-align: right;\">\n",
       "      <th></th>\n",
       "      <th>Airline</th>\n",
       "      <th>Source</th>\n",
       "      <th>Destination</th>\n",
       "      <th>Route</th>\n",
       "      <th>Duration</th>\n",
       "      <th>Total_Stops</th>\n",
       "      <th>Additional_Info</th>\n",
       "      <th>Price</th>\n",
       "      <th>Day</th>\n",
       "      <th>Month</th>\n",
       "      <th>Year</th>\n",
       "      <th>Dep_Hours</th>\n",
       "      <th>Dep_Minutes</th>\n",
       "      <th>Arrival_Hours</th>\n",
       "      <th>Arrival_Minutes</th>\n",
       "    </tr>\n",
       "  </thead>\n",
       "  <tbody>\n",
       "    <tr>\n",
       "      <th>6474</th>\n",
       "      <td>Air India</td>\n",
       "      <td>Mumbai</td>\n",
       "      <td>Hyderabad</td>\n",
       "      <td>BOM → GOI → PNQ → HYD</td>\n",
       "      <td>5m</td>\n",
       "      <td>2 stops</td>\n",
       "      <td>No info</td>\n",
       "      <td>17327</td>\n",
       "      <td>3</td>\n",
       "      <td>6</td>\n",
       "      <td>2019</td>\n",
       "      <td>16</td>\n",
       "      <td>50</td>\n",
       "      <td>16</td>\n",
       "      <td>55</td>\n",
       "    </tr>\n",
       "  </tbody>\n",
       "</table>\n",
       "</div>"
      ],
      "text/plain": [
       "        Airline  Source Destination                  Route Duration  \\\n",
       "6474  Air India  Mumbai   Hyderabad  BOM → GOI → PNQ → HYD       5m   \n",
       "\n",
       "     Total_Stops Additional_Info  Price  Day  Month  Year  Dep_Hours  \\\n",
       "6474     2 stops         No info  17327    3      6  2019         16   \n",
       "\n",
       "      Dep_Minutes  Arrival_Hours  Arrival_Minutes  \n",
       "6474           50             16               55  "
      ]
     },
     "execution_count": 16,
     "metadata": {},
     "output_type": "execute_result"
    }
   ],
   "source": [
    "flight_train[flight_train['Duration']=='5m']"
   ]
  },
  {
   "cell_type": "markdown",
   "metadata": {},
   "source": [
    "Its a flight from Mumbai to hyderabad having two stops. Duration of 5m is not possible. Lets check if we have same route and Price for other entries."
   ]
  },
  {
   "cell_type": "code",
   "execution_count": 17,
   "metadata": {},
   "outputs": [
    {
     "data": {
      "text/html": [
       "<div>\n",
       "<style scoped>\n",
       "    .dataframe tbody tr th:only-of-type {\n",
       "        vertical-align: middle;\n",
       "    }\n",
       "\n",
       "    .dataframe tbody tr th {\n",
       "        vertical-align: top;\n",
       "    }\n",
       "\n",
       "    .dataframe thead th {\n",
       "        text-align: right;\n",
       "    }\n",
       "</style>\n",
       "<table border=\"1\" class=\"dataframe\">\n",
       "  <thead>\n",
       "    <tr style=\"text-align: right;\">\n",
       "      <th></th>\n",
       "      <th>Airline</th>\n",
       "      <th>Source</th>\n",
       "      <th>Destination</th>\n",
       "      <th>Route</th>\n",
       "      <th>Duration</th>\n",
       "      <th>Total_Stops</th>\n",
       "      <th>Additional_Info</th>\n",
       "      <th>Price</th>\n",
       "      <th>Day</th>\n",
       "      <th>Month</th>\n",
       "      <th>Year</th>\n",
       "      <th>Dep_Hours</th>\n",
       "      <th>Dep_Minutes</th>\n",
       "      <th>Arrival_Hours</th>\n",
       "      <th>Arrival_Minutes</th>\n",
       "    </tr>\n",
       "  </thead>\n",
       "  <tbody>\n",
       "    <tr>\n",
       "      <th>3821</th>\n",
       "      <td>Air India</td>\n",
       "      <td>Mumbai</td>\n",
       "      <td>Hyderabad</td>\n",
       "      <td>BOM → GOI → PNQ → HYD</td>\n",
       "      <td>4h 15m</td>\n",
       "      <td>2 stops</td>\n",
       "      <td>No info</td>\n",
       "      <td>16172</td>\n",
       "      <td>3</td>\n",
       "      <td>12</td>\n",
       "      <td>2019</td>\n",
       "      <td>21</td>\n",
       "      <td>10</td>\n",
       "      <td>16</td>\n",
       "      <td>55</td>\n",
       "    </tr>\n",
       "    <tr>\n",
       "      <th>5309</th>\n",
       "      <td>Air India</td>\n",
       "      <td>Mumbai</td>\n",
       "      <td>Hyderabad</td>\n",
       "      <td>BOM → GOI → PNQ → HYD</td>\n",
       "      <td>4h 15m</td>\n",
       "      <td>2 stops</td>\n",
       "      <td>No info</td>\n",
       "      <td>17327</td>\n",
       "      <td>3</td>\n",
       "      <td>6</td>\n",
       "      <td>2019</td>\n",
       "      <td>21</td>\n",
       "      <td>10</td>\n",
       "      <td>16</td>\n",
       "      <td>55</td>\n",
       "    </tr>\n",
       "    <tr>\n",
       "      <th>5942</th>\n",
       "      <td>Air India</td>\n",
       "      <td>Mumbai</td>\n",
       "      <td>Hyderabad</td>\n",
       "      <td>BOM → GOI → PNQ → HYD</td>\n",
       "      <td>11h 50m</td>\n",
       "      <td>2 stops</td>\n",
       "      <td>No info</td>\n",
       "      <td>16172</td>\n",
       "      <td>3</td>\n",
       "      <td>12</td>\n",
       "      <td>2019</td>\n",
       "      <td>5</td>\n",
       "      <td>5</td>\n",
       "      <td>16</td>\n",
       "      <td>55</td>\n",
       "    </tr>\n",
       "    <tr>\n",
       "      <th>6474</th>\n",
       "      <td>Air India</td>\n",
       "      <td>Mumbai</td>\n",
       "      <td>Hyderabad</td>\n",
       "      <td>BOM → GOI → PNQ → HYD</td>\n",
       "      <td>5m</td>\n",
       "      <td>2 stops</td>\n",
       "      <td>No info</td>\n",
       "      <td>17327</td>\n",
       "      <td>3</td>\n",
       "      <td>6</td>\n",
       "      <td>2019</td>\n",
       "      <td>16</td>\n",
       "      <td>50</td>\n",
       "      <td>16</td>\n",
       "      <td>55</td>\n",
       "    </tr>\n",
       "    <tr>\n",
       "      <th>7456</th>\n",
       "      <td>Air India</td>\n",
       "      <td>Mumbai</td>\n",
       "      <td>Hyderabad</td>\n",
       "      <td>BOM → GOI → PNQ → HYD</td>\n",
       "      <td>11h 50m</td>\n",
       "      <td>2 stops</td>\n",
       "      <td>No info</td>\n",
       "      <td>16697</td>\n",
       "      <td>3</td>\n",
       "      <td>6</td>\n",
       "      <td>2019</td>\n",
       "      <td>5</td>\n",
       "      <td>5</td>\n",
       "      <td>16</td>\n",
       "      <td>55</td>\n",
       "    </tr>\n",
       "    <tr>\n",
       "      <th>8478</th>\n",
       "      <td>Air India</td>\n",
       "      <td>Mumbai</td>\n",
       "      <td>Hyderabad</td>\n",
       "      <td>BOM → GOI → PNQ → HYD</td>\n",
       "      <td>3h 25m</td>\n",
       "      <td>2 stops</td>\n",
       "      <td>No info</td>\n",
       "      <td>18797</td>\n",
       "      <td>3</td>\n",
       "      <td>6</td>\n",
       "      <td>2019</td>\n",
       "      <td>13</td>\n",
       "      <td>30</td>\n",
       "      <td>16</td>\n",
       "      <td>55</td>\n",
       "    </tr>\n",
       "  </tbody>\n",
       "</table>\n",
       "</div>"
      ],
      "text/plain": [
       "        Airline  Source Destination                  Route Duration  \\\n",
       "3821  Air India  Mumbai   Hyderabad  BOM → GOI → PNQ → HYD   4h 15m   \n",
       "5309  Air India  Mumbai   Hyderabad  BOM → GOI → PNQ → HYD   4h 15m   \n",
       "5942  Air India  Mumbai   Hyderabad  BOM → GOI → PNQ → HYD  11h 50m   \n",
       "6474  Air India  Mumbai   Hyderabad  BOM → GOI → PNQ → HYD       5m   \n",
       "7456  Air India  Mumbai   Hyderabad  BOM → GOI → PNQ → HYD  11h 50m   \n",
       "8478  Air India  Mumbai   Hyderabad  BOM → GOI → PNQ → HYD   3h 25m   \n",
       "\n",
       "     Total_Stops Additional_Info  Price  Day  Month  Year  Dep_Hours  \\\n",
       "3821     2 stops         No info  16172    3     12  2019         21   \n",
       "5309     2 stops         No info  17327    3      6  2019         21   \n",
       "5942     2 stops         No info  16172    3     12  2019          5   \n",
       "6474     2 stops         No info  17327    3      6  2019         16   \n",
       "7456     2 stops         No info  16697    3      6  2019          5   \n",
       "8478     2 stops         No info  18797    3      6  2019         13   \n",
       "\n",
       "      Dep_Minutes  Arrival_Hours  Arrival_Minutes  \n",
       "3821           10             16               55  \n",
       "5309           10             16               55  \n",
       "5942            5             16               55  \n",
       "6474           50             16               55  \n",
       "7456            5             16               55  \n",
       "8478           30             16               55  "
      ]
     },
     "execution_count": 17,
     "metadata": {},
     "output_type": "execute_result"
    }
   ],
   "source": [
    "flight_train[flight_train['Route']=='BOM → GOI → PNQ → HYD']"
   ]
  },
  {
   "cell_type": "markdown",
   "metadata": {},
   "source": [
    "Row no 6474 represents the faulty entry. Duration should be '4h 15m'. We will replcae the faulty value with '4h 15m'"
   ]
  },
  {
   "cell_type": "code",
   "execution_count": 11,
   "metadata": {},
   "outputs": [],
   "source": [
    "# We will replace error data\n",
    "\n",
    "flight_train.loc[(flight_train.Duration=='5m'),'Duration']='4h 15m'"
   ]
  },
  {
   "cell_type": "markdown",
   "metadata": {},
   "source": [
    "As the value is replaced lets extract hours and minutes from duration, convert it to minutes and place in a new column Duration_f."
   ]
  },
  {
   "cell_type": "code",
   "execution_count": 12,
   "metadata": {},
   "outputs": [],
   "source": [
    "flight_train['Dura_h']=flight_train['Duration'].str.split().str[0].str.replace('h','')\n",
    "flight_train['Dura_m']=flight_train['Duration'].str.split().str[1].str.replace('m','')\n",
    "flight_train['Dura_m']=flight_train['Dura_m'].fillna(0)\n",
    "flight_train['Dura_h']=flight_train['Dura_h'].astype('int32')\n",
    "flight_train['Dura_m']=flight_train['Dura_m'].astype('int32')\n",
    "flight_train['Duration_f']=(flight_train['Dura_h']*60)+flight_train['Dura_m']"
   ]
  },
  {
   "cell_type": "code",
   "execution_count": 105,
   "metadata": {},
   "outputs": [
    {
     "data": {
      "text/html": [
       "<div>\n",
       "<style scoped>\n",
       "    .dataframe tbody tr th:only-of-type {\n",
       "        vertical-align: middle;\n",
       "    }\n",
       "\n",
       "    .dataframe tbody tr th {\n",
       "        vertical-align: top;\n",
       "    }\n",
       "\n",
       "    .dataframe thead th {\n",
       "        text-align: right;\n",
       "    }\n",
       "</style>\n",
       "<table border=\"1\" class=\"dataframe\">\n",
       "  <thead>\n",
       "    <tr style=\"text-align: right;\">\n",
       "      <th></th>\n",
       "      <th>Airline</th>\n",
       "      <th>Source</th>\n",
       "      <th>Destination</th>\n",
       "      <th>Route</th>\n",
       "      <th>Duration</th>\n",
       "      <th>Total_Stops</th>\n",
       "      <th>Additional_Info</th>\n",
       "      <th>Price</th>\n",
       "      <th>Day</th>\n",
       "      <th>Month</th>\n",
       "      <th>Year</th>\n",
       "      <th>Dep_Hours</th>\n",
       "      <th>Dep_Minutes</th>\n",
       "      <th>Arrival_Hours</th>\n",
       "      <th>Arrival_Minutes</th>\n",
       "      <th>Dura_h</th>\n",
       "      <th>Dura_m</th>\n",
       "      <th>Duration_f</th>\n",
       "    </tr>\n",
       "  </thead>\n",
       "  <tbody>\n",
       "    <tr>\n",
       "      <th>0</th>\n",
       "      <td>IndiGo</td>\n",
       "      <td>Banglore</td>\n",
       "      <td>New Delhi</td>\n",
       "      <td>BLR → DEL</td>\n",
       "      <td>2h 50m</td>\n",
       "      <td>non-stop</td>\n",
       "      <td>No info</td>\n",
       "      <td>3897</td>\n",
       "      <td>24</td>\n",
       "      <td>3</td>\n",
       "      <td>2019</td>\n",
       "      <td>22</td>\n",
       "      <td>20</td>\n",
       "      <td>1</td>\n",
       "      <td>10</td>\n",
       "      <td>2</td>\n",
       "      <td>50</td>\n",
       "      <td>170</td>\n",
       "    </tr>\n",
       "    <tr>\n",
       "      <th>1</th>\n",
       "      <td>Air India</td>\n",
       "      <td>Kolkata</td>\n",
       "      <td>Banglore</td>\n",
       "      <td>CCU → IXR → BBI → BLR</td>\n",
       "      <td>7h 25m</td>\n",
       "      <td>2 stops</td>\n",
       "      <td>No info</td>\n",
       "      <td>7662</td>\n",
       "      <td>5</td>\n",
       "      <td>1</td>\n",
       "      <td>2019</td>\n",
       "      <td>5</td>\n",
       "      <td>50</td>\n",
       "      <td>13</td>\n",
       "      <td>15</td>\n",
       "      <td>7</td>\n",
       "      <td>25</td>\n",
       "      <td>445</td>\n",
       "    </tr>\n",
       "    <tr>\n",
       "      <th>2</th>\n",
       "      <td>Jet Airways</td>\n",
       "      <td>Delhi</td>\n",
       "      <td>Cochin</td>\n",
       "      <td>DEL → LKO → BOM → COK</td>\n",
       "      <td>19h</td>\n",
       "      <td>2 stops</td>\n",
       "      <td>No info</td>\n",
       "      <td>13882</td>\n",
       "      <td>6</td>\n",
       "      <td>9</td>\n",
       "      <td>2019</td>\n",
       "      <td>9</td>\n",
       "      <td>25</td>\n",
       "      <td>4</td>\n",
       "      <td>25</td>\n",
       "      <td>19</td>\n",
       "      <td>0</td>\n",
       "      <td>1140</td>\n",
       "    </tr>\n",
       "    <tr>\n",
       "      <th>3</th>\n",
       "      <td>IndiGo</td>\n",
       "      <td>Kolkata</td>\n",
       "      <td>Banglore</td>\n",
       "      <td>CCU → NAG → BLR</td>\n",
       "      <td>5h 25m</td>\n",
       "      <td>1 stop</td>\n",
       "      <td>No info</td>\n",
       "      <td>6218</td>\n",
       "      <td>5</td>\n",
       "      <td>12</td>\n",
       "      <td>2019</td>\n",
       "      <td>18</td>\n",
       "      <td>5</td>\n",
       "      <td>23</td>\n",
       "      <td>30</td>\n",
       "      <td>5</td>\n",
       "      <td>25</td>\n",
       "      <td>325</td>\n",
       "    </tr>\n",
       "    <tr>\n",
       "      <th>4</th>\n",
       "      <td>IndiGo</td>\n",
       "      <td>Banglore</td>\n",
       "      <td>New Delhi</td>\n",
       "      <td>BLR → NAG → DEL</td>\n",
       "      <td>4h 45m</td>\n",
       "      <td>1 stop</td>\n",
       "      <td>No info</td>\n",
       "      <td>13302</td>\n",
       "      <td>3</td>\n",
       "      <td>1</td>\n",
       "      <td>2019</td>\n",
       "      <td>16</td>\n",
       "      <td>50</td>\n",
       "      <td>21</td>\n",
       "      <td>35</td>\n",
       "      <td>4</td>\n",
       "      <td>45</td>\n",
       "      <td>285</td>\n",
       "    </tr>\n",
       "  </tbody>\n",
       "</table>\n",
       "</div>"
      ],
      "text/plain": [
       "       Airline    Source Destination                  Route Duration  \\\n",
       "0       IndiGo  Banglore   New Delhi              BLR → DEL   2h 50m   \n",
       "1    Air India   Kolkata    Banglore  CCU → IXR → BBI → BLR   7h 25m   \n",
       "2  Jet Airways     Delhi      Cochin  DEL → LKO → BOM → COK      19h   \n",
       "3       IndiGo   Kolkata    Banglore        CCU → NAG → BLR   5h 25m   \n",
       "4       IndiGo  Banglore   New Delhi        BLR → NAG → DEL   4h 45m   \n",
       "\n",
       "  Total_Stops Additional_Info  Price  Day  Month  Year  Dep_Hours  \\\n",
       "0    non-stop         No info   3897   24      3  2019         22   \n",
       "1     2 stops         No info   7662    5      1  2019          5   \n",
       "2     2 stops         No info  13882    6      9  2019          9   \n",
       "3      1 stop         No info   6218    5     12  2019         18   \n",
       "4      1 stop         No info  13302    3      1  2019         16   \n",
       "\n",
       "   Dep_Minutes  Arrival_Hours  Arrival_Minutes  Dura_h  Dura_m  Duration_f  \n",
       "0           20              1               10       2      50         170  \n",
       "1           50             13               15       7      25         445  \n",
       "2           25              4               25      19       0        1140  \n",
       "3            5             23               30       5      25         325  \n",
       "4           50             21               35       4      45         285  "
      ]
     },
     "execution_count": 105,
     "metadata": {},
     "output_type": "execute_result"
    }
   ],
   "source": [
    "flight_train.head()"
   ]
  },
  {
   "cell_type": "code",
   "execution_count": null,
   "metadata": {},
   "outputs": [],
   "source": []
  },
  {
   "cell_type": "markdown",
   "metadata": {},
   "source": [
    "Treating the duration column for Test Dataset"
   ]
  },
  {
   "cell_type": "code",
   "execution_count": 106,
   "metadata": {},
   "outputs": [
    {
     "data": {
      "text/plain": [
       "2h 50m     122\n",
       "1h 30m     107\n",
       "2h 45m      95\n",
       "2h 55m      81\n",
       "3h          72\n",
       "2h 35m      70\n",
       "2h 30m      58\n",
       "2h 20m      48\n",
       "2h 40m      38\n",
       "13h 20m     32\n",
       "5h 15m      29\n",
       "2h 15m      29\n",
       "1h 25m      24\n",
       "2h 25m      24\n",
       "9h 20m      22\n",
       "13h 30m     22\n",
       "10h 15m     22\n",
       "1h 20m      20\n",
       "14h 5m      20\n",
       "3h 15m      20\n",
       "7h 30m      19\n",
       "13h         18\n",
       "7h 35m      18\n",
       "12h 30m     18\n",
       "11h         18\n",
       "6h 25m      17\n",
       "11h 45m     17\n",
       "3h 5m       17\n",
       "9h 30m      17\n",
       "10h 25m     17\n",
       "8h          16\n",
       "5h 30m      16\n",
       "5h 45m      16\n",
       "8h 25m      16\n",
       "12h 10m     16\n",
       "8h 40m      16\n",
       "10h         15\n",
       "12h 45m     15\n",
       "22h 55m     15\n",
       "7h 15m      15\n",
       "11h 30m     14\n",
       "8h 30m      14\n",
       "23h 40m     14\n",
       "9h          14\n",
       "6h 35m      14\n",
       "6h 20m      14\n",
       "15h 10m     13\n",
       "4h 50m      13\n",
       "5h          13\n",
       "18h 45m     12\n",
       "7h 5m       12\n",
       "12h 15m     12\n",
       "5h 20m      12\n",
       "6h 15m      12\n",
       "27h 35m     12\n",
       "12h 25m     12\n",
       "10h 30m     12\n",
       "11h 15m     12\n",
       "18h 20m     12\n",
       "9h 50m      12\n",
       "14h         12\n",
       "19h 25m     12\n",
       "26h 20m     11\n",
       "7h 20m      11\n",
       "3h 10m      11\n",
       "9h 45m      11\n",
       "7h 45m      11\n",
       "25h 45m     11\n",
       "22h 30m     11\n",
       "23h 50m     11\n",
       "14h 30m     11\n",
       "8h 20m      10\n",
       "26h 55m     10\n",
       "14h 20m     10\n",
       "12h         10\n",
       "16h 5m      10\n",
       "15h 40m      9\n",
       "9h 15m       9\n",
       "7h 55m       9\n",
       "12h 20m      9\n",
       "11h 5m       9\n",
       "13h 15m      9\n",
       "6h 40m       9\n",
       "6h 5m        9\n",
       "26h 35m      9\n",
       "11h 25m      9\n",
       "6h 30m       9\n",
       "15h 25m      9\n",
       "21h 35m      8\n",
       "13h 45m      8\n",
       "23h 30m      8\n",
       "22h 5m       8\n",
       "16h 45m      8\n",
       "16h 50m      8\n",
       "5h 10m       8\n",
       "21h 55m      8\n",
       "14h 55m      8\n",
       "17h 5m       8\n",
       "20h 55m      8\n",
       "10h 10m      8\n",
       "19h 55m      8\n",
       "21h 15m      8\n",
       "5h 55m       7\n",
       "7h 40m       7\n",
       "4h 35m       7\n",
       "27h 45m      7\n",
       "20h          7\n",
       "1h 35m       7\n",
       "8h 50m       7\n",
       "17h 25m      7\n",
       "8h 55m       7\n",
       "14h 35m      7\n",
       "15h 55m      7\n",
       "24h 50m      7\n",
       "9h 35m       7\n",
       "13h 50m      7\n",
       "8h 10m       7\n",
       "4h 55m       7\n",
       "14h 25m      6\n",
       "6h           6\n",
       "11h 50m      6\n",
       "1h 15m       6\n",
       "5h 40m       6\n",
       "22h 25m      6\n",
       "15h 15m      6\n",
       "33h 15m      6\n",
       "7h 50m       6\n",
       "10h 50m      6\n",
       "26h          6\n",
       "24h 45m      6\n",
       "5h 5m        6\n",
       "20h 20m      6\n",
       "27h 40m      6\n",
       "23h 15m      6\n",
       "6h 10m       6\n",
       "20h 10m      6\n",
       "4h 5m        6\n",
       "5h 25m       6\n",
       "25h 40m      6\n",
       "11h 40m      6\n",
       "16h 15m      6\n",
       "15h 30m      6\n",
       "23h 45m      6\n",
       "21h 25m      6\n",
       "10h 20m      6\n",
       "4h 30m       6\n",
       "20h 15m      5\n",
       "9h 10m       5\n",
       "3h 40m       5\n",
       "17h 35m      5\n",
       "23h 10m      5\n",
       "4h 40m       5\n",
       "5h 35m       5\n",
       "15h 5m       5\n",
       "14h 50m      5\n",
       "16h 25m      5\n",
       "24h 30m      5\n",
       "13h 55m      5\n",
       "27h 10m      5\n",
       "12h 35m      5\n",
       "10h 35m      5\n",
       "10h 40m      5\n",
       "22h 45m      5\n",
       "28h          5\n",
       "37h 20m      5\n",
       "24h          5\n",
       "24h 40m      5\n",
       "8h 5m        4\n",
       "15h          4\n",
       "18h 25m      4\n",
       "23h          4\n",
       "24h 10m      4\n",
       "15h 20m      4\n",
       "25h          4\n",
       "25h 30m      4\n",
       "36h 25m      4\n",
       "25h 35m      4\n",
       "16h          4\n",
       "24h 55m      4\n",
       "14h 45m      4\n",
       "8h 15m       4\n",
       "10h 55m      4\n",
       "28h 40m      4\n",
       "26h 25m      4\n",
       "23h 35m      4\n",
       "27h 5m       4\n",
       "20h 45m      4\n",
       "25h 20m      4\n",
       "25h 50m      4\n",
       "13h 25m      4\n",
       "11h 35m      4\n",
       "12h 50m      4\n",
       "12h 55m      4\n",
       "19h 40m      4\n",
       "4h 25m       4\n",
       "21h 10m      4\n",
       "9h 5m        4\n",
       "15h 45m      4\n",
       "18h          3\n",
       "21h 40m      3\n",
       "17h 15m      3\n",
       "38h 15m      3\n",
       "19h 30m      3\n",
       "27h 20m      3\n",
       "30h 30m      3\n",
       "7h           3\n",
       "23h 5m       3\n",
       "28h 15m      3\n",
       "27h          3\n",
       "29h 20m      3\n",
       "30h 20m      3\n",
       "22h 15m      3\n",
       "11h 55m      3\n",
       "28h 20m      3\n",
       "29h 35m      3\n",
       "4h 45m       3\n",
       "4h           3\n",
       "28h 50m      3\n",
       "8h 35m       3\n",
       "8h 45m       3\n",
       "17h 55m      3\n",
       "35h 35m      3\n",
       "23h 20m      3\n",
       "12h 40m      3\n",
       "20h 35m      3\n",
       "22h 10m      3\n",
       "29h 5m       3\n",
       "5h 50m       3\n",
       "15h 35m      2\n",
       "26h 15m      2\n",
       "11h 10m      2\n",
       "12h 5m       2\n",
       "10h 45m      2\n",
       "10h 5m       2\n",
       "9h 25m       2\n",
       "6h 45m       2\n",
       "15h 50m      2\n",
       "19h 10m      2\n",
       "26h 30m      2\n",
       "18h 50m      2\n",
       "16h 10m      2\n",
       "25h 25m      2\n",
       "26h 5m       2\n",
       "16h 40m      2\n",
       "30h          2\n",
       "9h 40m       2\n",
       "24h 25m      2\n",
       "28h 10m      2\n",
       "6h 55m       2\n",
       "25h 5m       2\n",
       "25h 55m      2\n",
       "18h 30m      2\n",
       "6h 50m       2\n",
       "16h 20m      2\n",
       "14h 10m      2\n",
       "23h 55m      2\n",
       "38h          2\n",
       "13h 10m      2\n",
       "17h 45m      2\n",
       "24h 5m       2\n",
       "11h 20m      2\n",
       "17h 20m      2\n",
       "22h          2\n",
       "16h 35m      2\n",
       "16h 55m      2\n",
       "30h 40m      2\n",
       "14h 40m      2\n",
       "26h 40m      2\n",
       "18h 10m      2\n",
       "21h 45m      2\n",
       "25h 10m      2\n",
       "26h 10m      2\n",
       "19h          2\n",
       "24h 35m      1\n",
       "22h 50m      1\n",
       "18h 40m      1\n",
       "31h 10m      1\n",
       "29h 40m      1\n",
       "16h 30m      1\n",
       "20h 30m      1\n",
       "33h 45m      1\n",
       "38h 35m      1\n",
       "9h 55m       1\n",
       "33h 20m      1\n",
       "3h 45m       1\n",
       "7h 25m       1\n",
       "34h 30m      1\n",
       "30h 45m      1\n",
       "17h 30m      1\n",
       "27h 55m      1\n",
       "21h 20m      1\n",
       "20h 25m      1\n",
       "32h 25m      1\n",
       "22h 40m      1\n",
       "38h 20m      1\n",
       "4h 10m       1\n",
       "24h 20m      1\n",
       "17h 40m      1\n",
       "4h 20m       1\n",
       "27h 30m      1\n",
       "30h 25m      1\n",
       "29h 55m      1\n",
       "28h 5m       1\n",
       "13h 35m      1\n",
       "13h 5m       1\n",
       "19h 45m      1\n",
       "5m           1\n",
       "21h 5m       1\n",
       "19h 5m       1\n",
       "19h 15m      1\n",
       "32h 20m      1\n",
       "24h 15m      1\n",
       "26h 50m      1\n",
       "39h 5m       1\n",
       "7h 10m       1\n",
       "32h 5m       1\n",
       "28h 55m      1\n",
       "40h 40m      1\n",
       "31h 55m      1\n",
       "27h 50m      1\n",
       "Name: Duration, dtype: int64"
      ]
     },
     "execution_count": 106,
     "metadata": {},
     "output_type": "execute_result"
    }
   ],
   "source": [
    "flight_test.Duration.value_counts()"
   ]
  },
  {
   "cell_type": "markdown",
   "metadata": {},
   "source": [
    "Same faulty entry in test dataset as well"
   ]
  },
  {
   "cell_type": "code",
   "execution_count": 13,
   "metadata": {},
   "outputs": [
    {
     "data": {
      "text/html": [
       "<div>\n",
       "<style scoped>\n",
       "    .dataframe tbody tr th:only-of-type {\n",
       "        vertical-align: middle;\n",
       "    }\n",
       "\n",
       "    .dataframe tbody tr th {\n",
       "        vertical-align: top;\n",
       "    }\n",
       "\n",
       "    .dataframe thead th {\n",
       "        text-align: right;\n",
       "    }\n",
       "</style>\n",
       "<table border=\"1\" class=\"dataframe\">\n",
       "  <thead>\n",
       "    <tr style=\"text-align: right;\">\n",
       "      <th></th>\n",
       "      <th>Airline</th>\n",
       "      <th>Source</th>\n",
       "      <th>Destination</th>\n",
       "      <th>Route</th>\n",
       "      <th>Duration</th>\n",
       "      <th>Total_Stops</th>\n",
       "      <th>Additional_Info</th>\n",
       "      <th>Day</th>\n",
       "      <th>Month</th>\n",
       "      <th>Year</th>\n",
       "      <th>Dep_Hours</th>\n",
       "      <th>Dep_Minutes</th>\n",
       "      <th>Arrival_Hours</th>\n",
       "      <th>Arrival_Minutes</th>\n",
       "    </tr>\n",
       "  </thead>\n",
       "  <tbody>\n",
       "    <tr>\n",
       "      <th>2660</th>\n",
       "      <td>Air India</td>\n",
       "      <td>Mumbai</td>\n",
       "      <td>Hyderabad</td>\n",
       "      <td>BOM → GOI → PNQ → HYD</td>\n",
       "      <td>5m</td>\n",
       "      <td>2 stops</td>\n",
       "      <td>No info</td>\n",
       "      <td>3</td>\n",
       "      <td>12</td>\n",
       "      <td>2019</td>\n",
       "      <td>16</td>\n",
       "      <td>50</td>\n",
       "      <td>16</td>\n",
       "      <td>55</td>\n",
       "    </tr>\n",
       "  </tbody>\n",
       "</table>\n",
       "</div>"
      ],
      "text/plain": [
       "        Airline  Source Destination                  Route Duration  \\\n",
       "2660  Air India  Mumbai   Hyderabad  BOM → GOI → PNQ → HYD       5m   \n",
       "\n",
       "     Total_Stops Additional_Info  Day  Month  Year  Dep_Hours  Dep_Minutes  \\\n",
       "2660     2 stops         No info    3     12  2019         16           50   \n",
       "\n",
       "      Arrival_Hours  Arrival_Minutes  \n",
       "2660             16               55  "
      ]
     },
     "execution_count": 13,
     "metadata": {},
     "output_type": "execute_result"
    }
   ],
   "source": [
    "flight_test[flight_test['Duration']=='5m']"
   ]
  },
  {
   "cell_type": "code",
   "execution_count": 14,
   "metadata": {},
   "outputs": [],
   "source": [
    "# Replacing with '4h 15m'\n",
    "\n",
    "flight_test.loc[(flight_test.Duration=='5m'),'Duration']='4h 15m'"
   ]
  },
  {
   "cell_type": "markdown",
   "metadata": {},
   "source": [
    "As the value is replaced lets extract hours and minutes from duration, convert it to minutes and place in a new column Duration_f."
   ]
  },
  {
   "cell_type": "code",
   "execution_count": 15,
   "metadata": {},
   "outputs": [],
   "source": [
    "flight_test['Dura_h']=flight_test['Duration'].str.split().str[0].str.replace('h','')\n",
    "flight_test['Dura_m']=flight_test['Duration'].str.split().str[1].str.replace('m','')\n",
    "flight_test['Dura_m']=flight_test['Dura_m'].fillna(0)\n",
    "flight_test['Dura_h']=flight_test['Dura_h'].astype('int32')\n",
    "flight_test['Dura_m']=flight_test['Dura_m'].astype('int32')\n",
    "flight_test['Duration_f']=(flight_test['Dura_h']*60)+flight_train['Dura_m']"
   ]
  },
  {
   "cell_type": "code",
   "execution_count": 23,
   "metadata": {},
   "outputs": [
    {
     "data": {
      "text/html": [
       "<div>\n",
       "<style scoped>\n",
       "    .dataframe tbody tr th:only-of-type {\n",
       "        vertical-align: middle;\n",
       "    }\n",
       "\n",
       "    .dataframe tbody tr th {\n",
       "        vertical-align: top;\n",
       "    }\n",
       "\n",
       "    .dataframe thead th {\n",
       "        text-align: right;\n",
       "    }\n",
       "</style>\n",
       "<table border=\"1\" class=\"dataframe\">\n",
       "  <thead>\n",
       "    <tr style=\"text-align: right;\">\n",
       "      <th></th>\n",
       "      <th>Airline</th>\n",
       "      <th>Source</th>\n",
       "      <th>Destination</th>\n",
       "      <th>Route</th>\n",
       "      <th>Duration</th>\n",
       "      <th>Total_Stops</th>\n",
       "      <th>Additional_Info</th>\n",
       "      <th>Day</th>\n",
       "      <th>Month</th>\n",
       "      <th>Year</th>\n",
       "      <th>Dep_Hours</th>\n",
       "      <th>Dep_Minutes</th>\n",
       "      <th>Arrival_Hours</th>\n",
       "      <th>Arrival_Minutes</th>\n",
       "      <th>Dura_h</th>\n",
       "      <th>Dura_m</th>\n",
       "      <th>Duration_f</th>\n",
       "    </tr>\n",
       "  </thead>\n",
       "  <tbody>\n",
       "    <tr>\n",
       "      <th>0</th>\n",
       "      <td>Jet Airways</td>\n",
       "      <td>Delhi</td>\n",
       "      <td>Cochin</td>\n",
       "      <td>DEL → BOM → COK</td>\n",
       "      <td>10h 55m</td>\n",
       "      <td>1 stop</td>\n",
       "      <td>No info</td>\n",
       "      <td>6</td>\n",
       "      <td>6</td>\n",
       "      <td>2019</td>\n",
       "      <td>17</td>\n",
       "      <td>30</td>\n",
       "      <td>4</td>\n",
       "      <td>25</td>\n",
       "      <td>10</td>\n",
       "      <td>55</td>\n",
       "      <td>650.0</td>\n",
       "    </tr>\n",
       "    <tr>\n",
       "      <th>1</th>\n",
       "      <td>IndiGo</td>\n",
       "      <td>Kolkata</td>\n",
       "      <td>Banglore</td>\n",
       "      <td>CCU → MAA → BLR</td>\n",
       "      <td>4h</td>\n",
       "      <td>1 stop</td>\n",
       "      <td>No info</td>\n",
       "      <td>5</td>\n",
       "      <td>12</td>\n",
       "      <td>2019</td>\n",
       "      <td>6</td>\n",
       "      <td>20</td>\n",
       "      <td>10</td>\n",
       "      <td>20</td>\n",
       "      <td>4</td>\n",
       "      <td>0</td>\n",
       "      <td>265.0</td>\n",
       "    </tr>\n",
       "    <tr>\n",
       "      <th>2</th>\n",
       "      <td>Jet Airways</td>\n",
       "      <td>Delhi</td>\n",
       "      <td>Cochin</td>\n",
       "      <td>DEL → BOM → COK</td>\n",
       "      <td>23h 45m</td>\n",
       "      <td>1 stop</td>\n",
       "      <td>In-flight meal not included</td>\n",
       "      <td>21</td>\n",
       "      <td>5</td>\n",
       "      <td>2019</td>\n",
       "      <td>19</td>\n",
       "      <td>15</td>\n",
       "      <td>19</td>\n",
       "      <td>0</td>\n",
       "      <td>23</td>\n",
       "      <td>45</td>\n",
       "      <td>1380.0</td>\n",
       "    </tr>\n",
       "    <tr>\n",
       "      <th>3</th>\n",
       "      <td>Multiple carriers</td>\n",
       "      <td>Delhi</td>\n",
       "      <td>Cochin</td>\n",
       "      <td>DEL → BOM → COK</td>\n",
       "      <td>13h</td>\n",
       "      <td>1 stop</td>\n",
       "      <td>No info</td>\n",
       "      <td>21</td>\n",
       "      <td>5</td>\n",
       "      <td>2019</td>\n",
       "      <td>8</td>\n",
       "      <td>0</td>\n",
       "      <td>21</td>\n",
       "      <td>0</td>\n",
       "      <td>13</td>\n",
       "      <td>0</td>\n",
       "      <td>805.0</td>\n",
       "    </tr>\n",
       "    <tr>\n",
       "      <th>4</th>\n",
       "      <td>Air Asia</td>\n",
       "      <td>Banglore</td>\n",
       "      <td>Delhi</td>\n",
       "      <td>BLR → DEL</td>\n",
       "      <td>2h 50m</td>\n",
       "      <td>non-stop</td>\n",
       "      <td>No info</td>\n",
       "      <td>24</td>\n",
       "      <td>6</td>\n",
       "      <td>2019</td>\n",
       "      <td>23</td>\n",
       "      <td>55</td>\n",
       "      <td>2</td>\n",
       "      <td>45</td>\n",
       "      <td>2</td>\n",
       "      <td>50</td>\n",
       "      <td>165.0</td>\n",
       "    </tr>\n",
       "  </tbody>\n",
       "</table>\n",
       "</div>"
      ],
      "text/plain": [
       "             Airline    Source Destination            Route Duration  \\\n",
       "0        Jet Airways     Delhi      Cochin  DEL → BOM → COK  10h 55m   \n",
       "1             IndiGo   Kolkata    Banglore  CCU → MAA → BLR       4h   \n",
       "2        Jet Airways     Delhi      Cochin  DEL → BOM → COK  23h 45m   \n",
       "3  Multiple carriers     Delhi      Cochin  DEL → BOM → COK      13h   \n",
       "4           Air Asia  Banglore       Delhi        BLR → DEL   2h 50m   \n",
       "\n",
       "  Total_Stops              Additional_Info  Day  Month  Year  Dep_Hours  \\\n",
       "0      1 stop                      No info    6      6  2019         17   \n",
       "1      1 stop                      No info    5     12  2019          6   \n",
       "2      1 stop  In-flight meal not included   21      5  2019         19   \n",
       "3      1 stop                      No info   21      5  2019          8   \n",
       "4    non-stop                      No info   24      6  2019         23   \n",
       "\n",
       "   Dep_Minutes  Arrival_Hours  Arrival_Minutes  Dura_h  Dura_m  Duration_f  \n",
       "0           30              4               25      10      55       650.0  \n",
       "1           20             10               20       4       0       265.0  \n",
       "2           15             19                0      23      45      1380.0  \n",
       "3            0             21                0      13       0       805.0  \n",
       "4           55              2               45       2      50       165.0  "
      ]
     },
     "execution_count": 23,
     "metadata": {},
     "output_type": "execute_result"
    }
   ],
   "source": [
    "flight_test.head()"
   ]
  },
  {
   "cell_type": "code",
   "execution_count": 16,
   "metadata": {},
   "outputs": [],
   "source": [
    "flight_test['Duration_f']=flight_test['Duration_f'].astype('int32')"
   ]
  },
  {
   "cell_type": "markdown",
   "metadata": {},
   "source": [
    "Dropping Duration, Dura_h and Dura_m columns from training and test dataset"
   ]
  },
  {
   "cell_type": "code",
   "execution_count": 17,
   "metadata": {},
   "outputs": [],
   "source": [
    "flight_train=flight_train.drop(['Duration','Dura_h','Dura_m'],axis=1)\n",
    "flight_test=flight_test.drop(['Duration','Dura_h','Dura_m'],axis=1)"
   ]
  },
  {
   "cell_type": "markdown",
   "metadata": {},
   "source": [
    "# Exploring Categorical Columns"
   ]
  },
  {
   "cell_type": "markdown",
   "metadata": {},
   "source": [
    "Checking Value Counts in Training Dataset"
   ]
  },
  {
   "cell_type": "code",
   "execution_count": 116,
   "metadata": {},
   "outputs": [
    {
     "data": {
      "text/plain": [
       "Delhi       4536\n",
       "Kolkata     2871\n",
       "Banglore    2197\n",
       "Mumbai       697\n",
       "Chennai      381\n",
       "Name: Source, dtype: int64"
      ]
     },
     "execution_count": 116,
     "metadata": {},
     "output_type": "execute_result"
    }
   ],
   "source": [
    "flight_train.Source.value_counts()"
   ]
  },
  {
   "cell_type": "code",
   "execution_count": 119,
   "metadata": {},
   "outputs": [
    {
     "data": {
      "text/plain": [
       "1 stop      5625\n",
       "non-stop    3491\n",
       "2 stops     1520\n",
       "3 stops       45\n",
       "4 stops        1\n",
       "Name: Total_Stops, dtype: int64"
      ]
     },
     "execution_count": 119,
     "metadata": {},
     "output_type": "execute_result"
    }
   ],
   "source": [
    "flight_train.Total_Stops.value_counts()"
   ]
  },
  {
   "cell_type": "code",
   "execution_count": 120,
   "metadata": {},
   "outputs": [
    {
     "data": {
      "text/plain": [
       "No info                         8344\n",
       "In-flight meal not included     1982\n",
       "No check-in baggage included     320\n",
       "1 Long layover                    19\n",
       "Change airports                    7\n",
       "Business class                     4\n",
       "No Info                            3\n",
       "1 Short layover                    1\n",
       "2 Long layover                     1\n",
       "Red-eye flight                     1\n",
       "Name: Additional_Info, dtype: int64"
      ]
     },
     "execution_count": 120,
     "metadata": {},
     "output_type": "execute_result"
    }
   ],
   "source": [
    "flight_train.Additional_Info.value_counts()"
   ]
  },
  {
   "cell_type": "markdown",
   "metadata": {},
   "source": [
    "In total stops We will replace Non-Stop, 1-Stop, 2-Stops, 3-Stops and 4-Stops with 0,1,2,3 and 4.\n",
    "\n",
    "For additional column we will replace 'No Info' with 'No info' as they represent same thing."
   ]
  },
  {
   "cell_type": "code",
   "execution_count": 18,
   "metadata": {},
   "outputs": [],
   "source": [
    "# Total_Stops\n",
    "\n",
    "flight_train['Total_Stops'].replace(['1 stop', 'non-stop', '2 stops', '3 stops', '4 stops'], [1, 0, 2, 3, 4], inplace=True)\n",
    "\n",
    "# Additional Info\n",
    "\n",
    "flight_train[\"Additional_Info\"] = flight_train[\"Additional_Info\"].replace('No Info','No info')"
   ]
  },
  {
   "cell_type": "code",
   "execution_count": 122,
   "metadata": {},
   "outputs": [
    {
     "data": {
      "text/plain": [
       "1    5625\n",
       "0    3491\n",
       "2    1520\n",
       "3      45\n",
       "4       1\n",
       "Name: Total_Stops, dtype: int64"
      ]
     },
     "execution_count": 122,
     "metadata": {},
     "output_type": "execute_result"
    }
   ],
   "source": [
    "flight_train.Total_Stops.value_counts()"
   ]
  },
  {
   "cell_type": "code",
   "execution_count": 123,
   "metadata": {},
   "outputs": [
    {
     "data": {
      "text/plain": [
       "No info                         8347\n",
       "In-flight meal not included     1982\n",
       "No check-in baggage included     320\n",
       "1 Long layover                    19\n",
       "Change airports                    7\n",
       "Business class                     4\n",
       "1 Short layover                    1\n",
       "2 Long layover                     1\n",
       "Red-eye flight                     1\n",
       "Name: Additional_Info, dtype: int64"
      ]
     },
     "execution_count": 123,
     "metadata": {},
     "output_type": "execute_result"
    }
   ],
   "source": [
    "flight_train.Additional_Info.value_counts()"
   ]
  },
  {
   "cell_type": "markdown",
   "metadata": {},
   "source": [
    "Visualizing Counts"
   ]
  },
  {
   "cell_type": "code",
   "execution_count": 34,
   "metadata": {
    "scrolled": false
   },
   "outputs": [
    {
     "data": {
      "image/png": "[encoded data removed]",
      "text/plain": [
       "<Figure size 648x432 with 1 Axes>"
      ]
     },
     "metadata": {
      "needs_background": "light"
     },
     "output_type": "display_data"
    },
    {
     "data": {
      "text/plain": [
       "Jet Airways                          36.032578\n",
       "IndiGo                               19.219247\n",
       "Air India                            16.392061\n",
       "Multiple carriers                    11.196405\n",
       "SpiceJet                              7.657742\n",
       "Vistara                               4.484179\n",
       "Air Asia                              2.986332\n",
       "GoAir                                 1.816139\n",
       "Multiple carriers Premium economy     0.121700\n",
       "Jet Airways Business                  0.056169\n",
       "Vistara Premium economy               0.028085\n",
       "Trujet                                0.009362\n",
       "Name: Airline, dtype: float64"
      ]
     },
     "execution_count": 34,
     "metadata": {},
     "output_type": "execute_result"
    }
   ],
   "source": [
    "sns.catplot(x='Airline',data=flight_train,kind='count',ax=ax,height=6,aspect=1.5)\n",
    "plt.xticks(rotation=90)\n",
    "plt.show()\n",
    "\n",
    "flight_train.Airline.value_counts(normalize=True)*100"
   ]
  },
  {
   "cell_type": "markdown",
   "metadata": {},
   "source": [
    "Highest share is of Jet Airways. Indigo and Air India has 19.2% and 16.3% flights."
   ]
  },
  {
   "cell_type": "code",
   "execution_count": 26,
   "metadata": {},
   "outputs": [
    {
     "data": {
      "image/png": "[encoded data removed]",
      "text/plain": [
       "<Figure size 360x360 with 1 Axes>"
      ]
     },
     "metadata": {
      "needs_background": "light"
     },
     "output_type": "display_data"
    },
    {
     "data": {
      "text/plain": [
       "Delhi       42.463958\n",
       "Kolkata     26.876989\n",
       "Banglore    20.567309\n",
       "Mumbai       6.524995\n",
       "Chennai      3.566748\n",
       "Name: Source, dtype: float64"
      ]
     },
     "execution_count": 26,
     "metadata": {},
     "output_type": "execute_result"
    }
   ],
   "source": [
    "fig, ax=sns.figsize=(12,10)\n",
    "sns.catplot(x='Source',data=flight_train,kind='count',ax=ax)\n",
    "plt.xticks(rotation=90)\n",
    "plt.show()\n",
    "\n",
    "flight_train.Source.value_counts(normalize=True)*100"
   ]
  },
  {
   "cell_type": "markdown",
   "metadata": {},
   "source": [
    "42.4% flights took of from Delhi. 26.8% from kolkata and 20.5% from Banglore. Delhi has the busiest terminal while Chennai has the least no of flights taking off."
   ]
  },
  {
   "cell_type": "code",
   "execution_count": 27,
   "metadata": {},
   "outputs": [
    {
     "data": {
      "image/png": "[encoded data removed]",
      "text/plain": [
       "<Figure size 360x360 with 1 Axes>"
      ]
     },
     "metadata": {
      "needs_background": "light"
     },
     "output_type": "display_data"
    },
    {
     "data": {
      "text/plain": [
       "Cochin       42.463958\n",
       "Banglore     26.876989\n",
       "Delhi        11.842352\n",
       "New Delhi     8.724958\n",
       "Hyderabad     6.524995\n",
       "Kolkata       3.566748\n",
       "Name: Destination, dtype: float64"
      ]
     },
     "execution_count": 27,
     "metadata": {},
     "output_type": "execute_result"
    }
   ],
   "source": [
    "fig, ax=sns.figsize=(12,10)\n",
    "sns.catplot(x='Destination',data=flight_train,kind='count',ax=ax)\n",
    "plt.xticks(rotation=90)\n",
    "plt.show()\n",
    "\n",
    "flight_train.Destination.value_counts(normalize=True)*100"
   ]
  },
  {
   "cell_type": "markdown",
   "metadata": {},
   "source": [
    "Coachin has the highest share in arriving flights which is 42.4%. Banglore has 26.8%. Delhi is on top in terms of flght taking off but for incoming flight it is at 3rd spot with 11.8%."
   ]
  },
  {
   "cell_type": "code",
   "execution_count": 32,
   "metadata": {},
   "outputs": [
    {
     "data": {
      "image/png": "[encoded data removed]",
      "text/plain": [
       "<Figure size 360x360 with 1 Axes>"
      ]
     },
     "metadata": {
      "needs_background": "light"
     },
     "output_type": "display_data"
    },
    {
     "data": {
      "text/plain": [
       "No info                         78.112713\n",
       "In-flight meal not included     18.554578\n",
       "No check-in baggage included     2.995694\n",
       "1 Long layover                   0.177869\n",
       "Change airports                  0.065531\n",
       "Business class                   0.037446\n",
       "No Info                          0.028085\n",
       "Red-eye flight                   0.009362\n",
       "1 Short layover                  0.009362\n",
       "2 Long layover                   0.009362\n",
       "Name: Additional_Info, dtype: float64"
      ]
     },
     "execution_count": 32,
     "metadata": {},
     "output_type": "execute_result"
    }
   ],
   "source": [
    "fig, ax=sns.figsize=(12,10)\n",
    "sns.catplot(x='Additional_Info',data=flight_train,kind='count',ax=ax)\n",
    "plt.xticks(rotation=90)\n",
    "plt.show()\n",
    "\n",
    "flight_train.Additional_Info.value_counts(normalize=True)*100"
   ]
  },
  {
   "cell_type": "markdown",
   "metadata": {},
   "source": [
    "For most of the flights there is no aditional info available."
   ]
  },
  {
   "cell_type": "code",
   "execution_count": 35,
   "metadata": {},
   "outputs": [
    {
     "data": {
      "image/png": "[encoded data removed]",
      "text/plain": [
       "<Figure size 360x360 with 1 Axes>"
      ]
     },
     "metadata": {
      "needs_background": "light"
     },
     "output_type": "display_data"
    },
    {
     "data": {
      "text/plain": [
       "1 stop      52.658678\n",
       "non-stop    32.681146\n",
       "2 stops     14.229545\n",
       "3 stops      0.421269\n",
       "4 stops      0.009362\n",
       "Name: Total_Stops, dtype: float64"
      ]
     },
     "execution_count": 35,
     "metadata": {},
     "output_type": "execute_result"
    }
   ],
   "source": [
    "fig, ax=sns.figsize=(12,10)\n",
    "sns.catplot(x='Total_Stops',data=flight_train,kind='count',ax=ax)\n",
    "plt.xticks(rotation=90)\n",
    "plt.show()\n",
    "\n",
    "flight_train.Total_Stops.value_counts(normalize=True)*100"
   ]
  },
  {
   "cell_type": "markdown",
   "metadata": {},
   "source": [
    "52.6% flights has only 1 stop on there route. 32.6% are non stop flights while 14.2 has 2 stops. Flights having 3 or 4 stops are very rare."
   ]
  },
  {
   "cell_type": "code",
   "execution_count": 27,
   "metadata": {},
   "outputs": [
    {
     "data": {
      "image/png": "[encoded data removed]",
      "text/plain": [
       "<Figure size 360x360 with 1 Axes>"
      ]
     },
     "metadata": {
      "needs_background": "light"
     },
     "output_type": "display_data"
    },
    {
     "data": {
      "text/plain": [
       "6     23.731511\n",
       "3     20.698371\n",
       "5     19.415840\n",
       "9     13.162329\n",
       "1     10.063658\n",
       "12     8.958996\n",
       "4      3.969294\n",
       "Name: Month, dtype: float64"
      ]
     },
     "execution_count": 27,
     "metadata": {},
     "output_type": "execute_result"
    }
   ],
   "source": [
    "fig, ax=sns.figsize=(12,10)\n",
    "sns.catplot(x='Month',data=flight_train,kind='count',ax=ax)\n",
    "\n",
    "plt.show()\n",
    "\n",
    "flight_train.Month.value_counts(normalize=True)*100"
   ]
  },
  {
   "cell_type": "markdown",
   "metadata": {},
   "source": [
    "6th month see more number of flights followed by 3rd and 5th month."
   ]
  },
  {
   "cell_type": "markdown",
   "metadata": {},
   "source": [
    "# Bivariate Analysis"
   ]
  },
  {
   "cell_type": "code",
   "execution_count": 20,
   "metadata": {},
   "outputs": [
    {
     "data": {
      "image/png": "[encoded data removed]",
      "text/plain": [
       "<Figure size 720x576 with 1 Axes>"
      ]
     },
     "metadata": {
      "needs_background": "light"
     },
     "output_type": "display_data"
    }
   ],
   "source": [
    "fig,ax=plt.subplots(figsize=(10,8))\n",
    "sns.scatterplot(x=flight_train['Airline'],y=flight_train['Price'],ax=ax)\n",
    "plt.xticks(rotation=90)\n",
    "plt.show()"
   ]
  },
  {
   "cell_type": "markdown",
   "metadata": {},
   "source": [
    "High prices are observed for Jet Airways Business flight. This is obvious."
   ]
  },
  {
   "cell_type": "code",
   "execution_count": 21,
   "metadata": {},
   "outputs": [
    {
     "data": {
      "image/png": "[encoded data removed]",
      "text/plain": [
       "<Figure size 720x576 with 1 Axes>"
      ]
     },
     "metadata": {
      "needs_background": "light"
     },
     "output_type": "display_data"
    }
   ],
   "source": [
    "fig,ax=plt.subplots(figsize=(10,8))\n",
    "sns.scatterplot(x=flight_train['Source'],y=flight_train['Price'],ax=ax)\n",
    "plt.xticks(rotation=90)\n",
    "plt.show()"
   ]
  },
  {
   "cell_type": "markdown",
   "metadata": {},
   "source": [
    "Flight prices from Banglore is high followed by Delhi."
   ]
  },
  {
   "cell_type": "code",
   "execution_count": null,
   "metadata": {},
   "outputs": [],
   "source": []
  },
  {
   "cell_type": "code",
   "execution_count": 22,
   "metadata": {},
   "outputs": [
    {
     "data": {
      "image/png": "[encoded data removed]",
      "text/plain": [
       "<Figure size 720x576 with 1 Axes>"
      ]
     },
     "metadata": {
      "needs_background": "light"
     },
     "output_type": "display_data"
    }
   ],
   "source": [
    "fig,ax=plt.subplots(figsize=(10,8))\n",
    "sns.scatterplot(x=flight_train['Destination'],y=flight_train['Price'],ax=ax)\n",
    "plt.xticks(rotation=90)\n",
    "plt.show()"
   ]
  },
  {
   "cell_type": "markdown",
   "metadata": {},
   "source": [
    "Usually flights going to Delhi are costliers. Cochin is second costliest."
   ]
  },
  {
   "cell_type": "code",
   "execution_count": 35,
   "metadata": {},
   "outputs": [
    {
     "data": {
      "image/png": "[encoded data removed]",
      "text/plain": [
       "<Figure size 720x576 with 1 Axes>"
      ]
     },
     "metadata": {
      "needs_background": "light"
     },
     "output_type": "display_data"
    }
   ],
   "source": [
    "fig,ax=plt.subplots(figsize=(10,8))\n",
    "sns.scatterplot(x=flight_train['Total_Stops'],y=flight_train['Price'],ax=ax)\n",
    "plt.xticks(rotation=90)\n",
    "plt.show()"
   ]
  },
  {
   "cell_type": "markdown",
   "metadata": {},
   "source": [
    "Usually Flight with 1-stop has highest prices. Non-Stop flights are normally cheaper."
   ]
  },
  {
   "cell_type": "code",
   "execution_count": 36,
   "metadata": {},
   "outputs": [
    {
     "data": {
      "image/png": "[encoded data removed]",
      "text/plain": [
       "<Figure size 720x576 with 1 Axes>"
      ]
     },
     "metadata": {
      "needs_background": "light"
     },
     "output_type": "display_data"
    }
   ],
   "source": [
    "fig,ax=plt.subplots(figsize=(10,8))\n",
    "sns.swarmplot(x=flight_train['Month'],y=flight_train['Price'],ax=ax)\n",
    "plt.xticks(rotation=90)\n",
    "plt.show()"
   ]
  },
  {
   "cell_type": "markdown",
   "metadata": {},
   "source": [
    "5th to 12th month have similar price pattern for flights despite of high number of flights in 6th month. 4th month usually have less flights so the price is cheaper. 1st and 2nd month show high prices."
   ]
  },
  {
   "cell_type": "code",
   "execution_count": 30,
   "metadata": {},
   "outputs": [
    {
     "data": {
      "image/png": "[encoded data removed]",
      "text/plain": [
       "<Figure size 720x576 with 1 Axes>"
      ]
     },
     "metadata": {
      "needs_background": "light"
     },
     "output_type": "display_data"
    }
   ],
   "source": [
    "fig,ax=plt.subplots(figsize=(10,8))\n",
    "sns.scatterplot(x=flight_train['Duration_f'],y=flight_train['Price'],ax=ax)\n",
    "plt.xticks(rotation=90)\n",
    "plt.show()"
   ]
  },
  {
   "cell_type": "markdown",
   "metadata": {},
   "source": [
    "No direct impact of flight duration on Price."
   ]
  },
  {
   "cell_type": "markdown",
   "metadata": {},
   "source": [
    "# Exploring categorical columns in Test dataset"
   ]
  },
  {
   "cell_type": "code",
   "execution_count": 125,
   "metadata": {},
   "outputs": [
    {
     "data": {
      "text/plain": [
       "1 stop      1431\n",
       "non-stop     849\n",
       "2 stops      379\n",
       "3 stops       11\n",
       "4 stops        1\n",
       "Name: Total_Stops, dtype: int64"
      ]
     },
     "execution_count": 125,
     "metadata": {},
     "output_type": "execute_result"
    }
   ],
   "source": [
    "flight_test.Total_Stops.value_counts()"
   ]
  },
  {
   "cell_type": "code",
   "execution_count": 124,
   "metadata": {},
   "outputs": [
    {
     "data": {
      "text/plain": [
       "No info                         2148\n",
       "In-flight meal not included      444\n",
       "No check-in baggage included      76\n",
       "1 Long layover                     1\n",
       "Business class                     1\n",
       "Change airports                    1\n",
       "Name: Additional_Info, dtype: int64"
      ]
     },
     "execution_count": 124,
     "metadata": {},
     "output_type": "execute_result"
    }
   ],
   "source": [
    "flight_test.Additional_Info.value_counts()"
   ]
  },
  {
   "cell_type": "markdown",
   "metadata": {},
   "source": [
    "In total stops We will replace Non-Stop,1-Stop,2-Stops,3-Stops and 4-Stops with 0,1,2,3 and 4."
   ]
  },
  {
   "cell_type": "code",
   "execution_count": 42,
   "metadata": {},
   "outputs": [],
   "source": [
    "# Total_Stops\n",
    "\n",
    "flight_test['Total_Stops'].replace(['1 stop', 'non-stop', '2 stops', '3 stops', '4 stops'], [1, 0, 2, 3, 4], inplace=True)"
   ]
  },
  {
   "cell_type": "code",
   "execution_count": 127,
   "metadata": {},
   "outputs": [
    {
     "data": {
      "text/plain": [
       "1    1431\n",
       "0     849\n",
       "2     379\n",
       "3      11\n",
       "4       1\n",
       "Name: Total_Stops, dtype: int64"
      ]
     },
     "execution_count": 127,
     "metadata": {},
     "output_type": "execute_result"
    }
   ],
   "source": [
    "flight_test.Total_Stops.value_counts()"
   ]
  },
  {
   "cell_type": "code",
   "execution_count": 37,
   "metadata": {},
   "outputs": [
    {
     "data": {
      "image/png": "[encoded data removed]",
      "text/plain": [
       "<Figure size 648x432 with 1 Axes>"
      ]
     },
     "metadata": {
      "needs_background": "light"
     },
     "output_type": "display_data"
    },
    {
     "data": {
      "text/plain": [
       "Jet Airways                          33.582928\n",
       "IndiGo                               19.131411\n",
       "Air India                            16.473231\n",
       "Multiple carriers                    12.991389\n",
       "SpiceJet                              7.787346\n",
       "Vistara                               4.829652\n",
       "Air Asia                              3.219768\n",
       "GoAir                                 1.722201\n",
       "Multiple carriers Premium economy     0.112317\n",
       "Jet Airways Business                  0.074878\n",
       "Vistara Premium economy               0.074878\n",
       "Name: Airline, dtype: float64"
      ]
     },
     "execution_count": 37,
     "metadata": {},
     "output_type": "execute_result"
    }
   ],
   "source": [
    "sns.catplot(x='Airline',data=flight_test,kind='count',ax=ax,height=6,aspect=1.5)\n",
    "plt.xticks(rotation=90)\n",
    "plt.show()\n",
    "\n",
    "flight_test.Airline.value_counts(normalize=True)*100"
   ]
  },
  {
   "cell_type": "markdown",
   "metadata": {},
   "source": [
    "In test data as well Jet has highest number of flights followed by Indigo and Air India Airlines"
   ]
  },
  {
   "cell_type": "code",
   "execution_count": 38,
   "metadata": {},
   "outputs": [
    {
     "data": {
      "image/png": "[encoded data removed]",
      "text/plain": [
       "<Figure size 360x360 with 1 Axes>"
      ]
     },
     "metadata": {
      "needs_background": "light"
     },
     "output_type": "display_data"
    },
    {
     "data": {
      "text/plain": [
       "Delhi       42.867840\n",
       "Kolkata     26.581805\n",
       "Banglore    20.778735\n",
       "Mumbai       6.963684\n",
       "Chennai      2.807937\n",
       "Name: Source, dtype: float64"
      ]
     },
     "execution_count": 38,
     "metadata": {},
     "output_type": "execute_result"
    }
   ],
   "source": [
    "fig, ax=sns.figsize=(12,10)\n",
    "sns.catplot(x='Source',data=flight_test,kind='count',ax=ax)\n",
    "plt.xticks(rotation=90)\n",
    "plt.show()\n",
    "\n",
    "flight_test.Source.value_counts(normalize=True)*100"
   ]
  },
  {
   "cell_type": "markdown",
   "metadata": {},
   "source": [
    "Flights with Delhi as the source are more i.e 42.8%. Kolkata and Banglore has 26.5% and 20.7% flights taking off."
   ]
  },
  {
   "cell_type": "code",
   "execution_count": 39,
   "metadata": {},
   "outputs": [
    {
     "data": {
      "image/png": "[encoded data removed]",
      "text/plain": [
       "<Figure size 360x360 with 1 Axes>"
      ]
     },
     "metadata": {
      "needs_background": "light"
     },
     "output_type": "display_data"
    },
    {
     "data": {
      "text/plain": [
       "Cochin       42.867840\n",
       "Banglore     26.581805\n",
       "Delhi        11.868214\n",
       "New Delhi     8.910520\n",
       "Hyderabad     6.963684\n",
       "Kolkata       2.807937\n",
       "Name: Destination, dtype: float64"
      ]
     },
     "execution_count": 39,
     "metadata": {},
     "output_type": "execute_result"
    }
   ],
   "source": [
    "fig, ax=sns.figsize=(12,10)\n",
    "sns.catplot(x='Destination',data=flight_test,kind='count',ax=ax)\n",
    "plt.xticks(rotation=90)\n",
    "plt.show()\n",
    "\n",
    "flight_test.Destination.value_counts(normalize=True)*100"
   ]
  },
  {
   "cell_type": "markdown",
   "metadata": {},
   "source": [
    "As for destination, test data also shows Cochin as the receiver of most number of flights. 42.8% lands in Cochin. Banglore has 26.5% and Delhi has 11.8%."
   ]
  },
  {
   "cell_type": "code",
   "execution_count": 43,
   "metadata": {},
   "outputs": [
    {
     "data": {
      "image/png": "[encoded data removed]",
      "text/plain": [
       "<Figure size 360x360 with 1 Axes>"
      ]
     },
     "metadata": {
      "needs_background": "light"
     },
     "output_type": "display_data"
    },
    {
     "data": {
      "text/plain": [
       "1    53.575440\n",
       "0    31.785848\n",
       "2    14.189442\n",
       "3     0.411831\n",
       "4     0.037439\n",
       "Name: Total_Stops, dtype: float64"
      ]
     },
     "execution_count": 43,
     "metadata": {},
     "output_type": "execute_result"
    }
   ],
   "source": [
    "fig, ax=sns.figsize=(12,10)\n",
    "sns.catplot(x='Total_Stops',data=flight_test,kind='count',ax=ax)\n",
    "plt.show()\n",
    "\n",
    "flight_test.Total_Stops.value_counts(normalize=True)*100"
   ]
  },
  {
   "cell_type": "markdown",
   "metadata": {},
   "source": [
    "Flights with single stop is more followed by Non Stop flights."
   ]
  },
  {
   "cell_type": "code",
   "execution_count": 44,
   "metadata": {},
   "outputs": [
    {
     "data": {
      "image/png": "[encoded data removed]",
      "text/plain": [
       "<Figure size 360x360 with 1 Axes>"
      ]
     },
     "metadata": {
      "needs_background": "light"
     },
     "output_type": "display_data"
    },
    {
     "data": {
      "text/plain": [
       "6     24.335455\n",
       "3     20.404343\n",
       "5     18.307750\n",
       "9     13.590416\n",
       "1     10.258330\n",
       "12     9.621864\n",
       "4      3.481842\n",
       "Name: Month, dtype: float64"
      ]
     },
     "execution_count": 44,
     "metadata": {},
     "output_type": "execute_result"
    }
   ],
   "source": [
    "fig, ax=sns.figsize=(12,10)\n",
    "sns.catplot(x='Month',data=flight_test,kind='count',ax=ax)\n",
    "\n",
    "plt.show()\n",
    "\n",
    "flight_test.Month.value_counts(normalize=True)*100"
   ]
  },
  {
   "cell_type": "markdown",
   "metadata": {},
   "source": [
    "Similar Pattern as Train data."
   ]
  },
  {
   "cell_type": "markdown",
   "metadata": {},
   "source": [
    "# Encoding"
   ]
  },
  {
   "cell_type": "code",
   "execution_count": 45,
   "metadata": {},
   "outputs": [],
   "source": [
    "from sklearn.preprocessing import OrdinalEncoder\n",
    "oe=OrdinalEncoder()"
   ]
  },
  {
   "cell_type": "code",
   "execution_count": 46,
   "metadata": {},
   "outputs": [],
   "source": [
    "# For Training Dataset\n",
    "\n",
    "for i in flight_train.columns:\n",
    "    if flight_train[i].dtypes=='O':\n",
    "        flight_train[i]=oe.fit_transform(flight_train[i].values.reshape(-1,1))"
   ]
  },
  {
   "cell_type": "code",
   "execution_count": 47,
   "metadata": {},
   "outputs": [
    {
     "data": {
      "text/html": [
       "<div>\n",
       "<style scoped>\n",
       "    .dataframe tbody tr th:only-of-type {\n",
       "        vertical-align: middle;\n",
       "    }\n",
       "\n",
       "    .dataframe tbody tr th {\n",
       "        vertical-align: top;\n",
       "    }\n",
       "\n",
       "    .dataframe thead th {\n",
       "        text-align: right;\n",
       "    }\n",
       "</style>\n",
       "<table border=\"1\" class=\"dataframe\">\n",
       "  <thead>\n",
       "    <tr style=\"text-align: right;\">\n",
       "      <th></th>\n",
       "      <th>Airline</th>\n",
       "      <th>Source</th>\n",
       "      <th>Destination</th>\n",
       "      <th>Route</th>\n",
       "      <th>Total_Stops</th>\n",
       "      <th>Additional_Info</th>\n",
       "      <th>Price</th>\n",
       "      <th>Day</th>\n",
       "      <th>Month</th>\n",
       "      <th>Year</th>\n",
       "      <th>Dep_Hours</th>\n",
       "      <th>Dep_Minutes</th>\n",
       "      <th>Arrival_Hours</th>\n",
       "      <th>Arrival_Minutes</th>\n",
       "      <th>Duration_f</th>\n",
       "    </tr>\n",
       "  </thead>\n",
       "  <tbody>\n",
       "    <tr>\n",
       "      <th>0</th>\n",
       "      <td>3.0</td>\n",
       "      <td>0.0</td>\n",
       "      <td>5.0</td>\n",
       "      <td>18.0</td>\n",
       "      <td>0</td>\n",
       "      <td>7.0</td>\n",
       "      <td>3897</td>\n",
       "      <td>24</td>\n",
       "      <td>3</td>\n",
       "      <td>2019</td>\n",
       "      <td>22</td>\n",
       "      <td>20</td>\n",
       "      <td>1</td>\n",
       "      <td>10</td>\n",
       "      <td>170</td>\n",
       "    </tr>\n",
       "    <tr>\n",
       "      <th>1</th>\n",
       "      <td>1.0</td>\n",
       "      <td>3.0</td>\n",
       "      <td>0.0</td>\n",
       "      <td>84.0</td>\n",
       "      <td>2</td>\n",
       "      <td>7.0</td>\n",
       "      <td>7662</td>\n",
       "      <td>5</td>\n",
       "      <td>1</td>\n",
       "      <td>2019</td>\n",
       "      <td>5</td>\n",
       "      <td>50</td>\n",
       "      <td>13</td>\n",
       "      <td>15</td>\n",
       "      <td>445</td>\n",
       "    </tr>\n",
       "    <tr>\n",
       "      <th>2</th>\n",
       "      <td>4.0</td>\n",
       "      <td>2.0</td>\n",
       "      <td>1.0</td>\n",
       "      <td>118.0</td>\n",
       "      <td>2</td>\n",
       "      <td>7.0</td>\n",
       "      <td>13882</td>\n",
       "      <td>6</td>\n",
       "      <td>9</td>\n",
       "      <td>2019</td>\n",
       "      <td>9</td>\n",
       "      <td>25</td>\n",
       "      <td>4</td>\n",
       "      <td>25</td>\n",
       "      <td>1140</td>\n",
       "    </tr>\n",
       "    <tr>\n",
       "      <th>3</th>\n",
       "      <td>3.0</td>\n",
       "      <td>3.0</td>\n",
       "      <td>0.0</td>\n",
       "      <td>91.0</td>\n",
       "      <td>1</td>\n",
       "      <td>7.0</td>\n",
       "      <td>6218</td>\n",
       "      <td>5</td>\n",
       "      <td>12</td>\n",
       "      <td>2019</td>\n",
       "      <td>18</td>\n",
       "      <td>5</td>\n",
       "      <td>23</td>\n",
       "      <td>30</td>\n",
       "      <td>325</td>\n",
       "    </tr>\n",
       "    <tr>\n",
       "      <th>4</th>\n",
       "      <td>3.0</td>\n",
       "      <td>0.0</td>\n",
       "      <td>5.0</td>\n",
       "      <td>29.0</td>\n",
       "      <td>1</td>\n",
       "      <td>7.0</td>\n",
       "      <td>13302</td>\n",
       "      <td>3</td>\n",
       "      <td>1</td>\n",
       "      <td>2019</td>\n",
       "      <td>16</td>\n",
       "      <td>50</td>\n",
       "      <td>21</td>\n",
       "      <td>35</td>\n",
       "      <td>285</td>\n",
       "    </tr>\n",
       "  </tbody>\n",
       "</table>\n",
       "</div>"
      ],
      "text/plain": [
       "   Airline  Source  Destination  Route  Total_Stops  Additional_Info  Price  \\\n",
       "0      3.0     0.0          5.0   18.0            0              7.0   3897   \n",
       "1      1.0     3.0          0.0   84.0            2              7.0   7662   \n",
       "2      4.0     2.0          1.0  118.0            2              7.0  13882   \n",
       "3      3.0     3.0          0.0   91.0            1              7.0   6218   \n",
       "4      3.0     0.0          5.0   29.0            1              7.0  13302   \n",
       "\n",
       "   Day  Month  Year  Dep_Hours  Dep_Minutes  Arrival_Hours  Arrival_Minutes  \\\n",
       "0   24      3  2019         22           20              1               10   \n",
       "1    5      1  2019          5           50             13               15   \n",
       "2    6      9  2019          9           25              4               25   \n",
       "3    5     12  2019         18            5             23               30   \n",
       "4    3      1  2019         16           50             21               35   \n",
       "\n",
       "   Duration_f  \n",
       "0         170  \n",
       "1         445  \n",
       "2        1140  \n",
       "3         325  \n",
       "4         285  "
      ]
     },
     "execution_count": 47,
     "metadata": {},
     "output_type": "execute_result"
    }
   ],
   "source": [
    "flight_train.head()"
   ]
  },
  {
   "cell_type": "code",
   "execution_count": 48,
   "metadata": {},
   "outputs": [],
   "source": [
    "# For Test Dataset\n",
    "\n",
    "for j in flight_test.columns:\n",
    "    if flight_test[j].dtypes=='O':\n",
    "        flight_test[j]=oe.fit_transform(flight_test[j].values.reshape(-1,1))"
   ]
  },
  {
   "cell_type": "code",
   "execution_count": 49,
   "metadata": {},
   "outputs": [
    {
     "data": {
      "text/html": [
       "<div>\n",
       "<style scoped>\n",
       "    .dataframe tbody tr th:only-of-type {\n",
       "        vertical-align: middle;\n",
       "    }\n",
       "\n",
       "    .dataframe tbody tr th {\n",
       "        vertical-align: top;\n",
       "    }\n",
       "\n",
       "    .dataframe thead th {\n",
       "        text-align: right;\n",
       "    }\n",
       "</style>\n",
       "<table border=\"1\" class=\"dataframe\">\n",
       "  <thead>\n",
       "    <tr style=\"text-align: right;\">\n",
       "      <th></th>\n",
       "      <th>Airline</th>\n",
       "      <th>Source</th>\n",
       "      <th>Destination</th>\n",
       "      <th>Route</th>\n",
       "      <th>Total_Stops</th>\n",
       "      <th>Additional_Info</th>\n",
       "      <th>Day</th>\n",
       "      <th>Month</th>\n",
       "      <th>Year</th>\n",
       "      <th>Dep_Hours</th>\n",
       "      <th>Dep_Minutes</th>\n",
       "      <th>Arrival_Hours</th>\n",
       "      <th>Arrival_Minutes</th>\n",
       "      <th>Duration_f</th>\n",
       "    </tr>\n",
       "  </thead>\n",
       "  <tbody>\n",
       "    <tr>\n",
       "      <th>0</th>\n",
       "      <td>4.0</td>\n",
       "      <td>2.0</td>\n",
       "      <td>1.0</td>\n",
       "      <td>76.0</td>\n",
       "      <td>1</td>\n",
       "      <td>5.0</td>\n",
       "      <td>6</td>\n",
       "      <td>6</td>\n",
       "      <td>2019</td>\n",
       "      <td>17</td>\n",
       "      <td>30</td>\n",
       "      <td>4</td>\n",
       "      <td>25</td>\n",
       "      <td>650</td>\n",
       "    </tr>\n",
       "    <tr>\n",
       "      <th>1</th>\n",
       "      <td>3.0</td>\n",
       "      <td>3.0</td>\n",
       "      <td>0.0</td>\n",
       "      <td>65.0</td>\n",
       "      <td>1</td>\n",
       "      <td>5.0</td>\n",
       "      <td>5</td>\n",
       "      <td>12</td>\n",
       "      <td>2019</td>\n",
       "      <td>6</td>\n",
       "      <td>20</td>\n",
       "      <td>10</td>\n",
       "      <td>20</td>\n",
       "      <td>265</td>\n",
       "    </tr>\n",
       "    <tr>\n",
       "      <th>2</th>\n",
       "      <td>4.0</td>\n",
       "      <td>2.0</td>\n",
       "      <td>1.0</td>\n",
       "      <td>76.0</td>\n",
       "      <td>1</td>\n",
       "      <td>3.0</td>\n",
       "      <td>21</td>\n",
       "      <td>5</td>\n",
       "      <td>2019</td>\n",
       "      <td>19</td>\n",
       "      <td>15</td>\n",
       "      <td>19</td>\n",
       "      <td>0</td>\n",
       "      <td>1380</td>\n",
       "    </tr>\n",
       "    <tr>\n",
       "      <th>3</th>\n",
       "      <td>6.0</td>\n",
       "      <td>2.0</td>\n",
       "      <td>1.0</td>\n",
       "      <td>76.0</td>\n",
       "      <td>1</td>\n",
       "      <td>5.0</td>\n",
       "      <td>21</td>\n",
       "      <td>5</td>\n",
       "      <td>2019</td>\n",
       "      <td>8</td>\n",
       "      <td>0</td>\n",
       "      <td>21</td>\n",
       "      <td>0</td>\n",
       "      <td>805</td>\n",
       "    </tr>\n",
       "    <tr>\n",
       "      <th>4</th>\n",
       "      <td>0.0</td>\n",
       "      <td>0.0</td>\n",
       "      <td>2.0</td>\n",
       "      <td>16.0</td>\n",
       "      <td>0</td>\n",
       "      <td>5.0</td>\n",
       "      <td>24</td>\n",
       "      <td>6</td>\n",
       "      <td>2019</td>\n",
       "      <td>23</td>\n",
       "      <td>55</td>\n",
       "      <td>2</td>\n",
       "      <td>45</td>\n",
       "      <td>165</td>\n",
       "    </tr>\n",
       "  </tbody>\n",
       "</table>\n",
       "</div>"
      ],
      "text/plain": [
       "   Airline  Source  Destination  Route  Total_Stops  Additional_Info  Day  \\\n",
       "0      4.0     2.0          1.0   76.0            1              5.0    6   \n",
       "1      3.0     3.0          0.0   65.0            1              5.0    5   \n",
       "2      4.0     2.0          1.0   76.0            1              3.0   21   \n",
       "3      6.0     2.0          1.0   76.0            1              5.0   21   \n",
       "4      0.0     0.0          2.0   16.0            0              5.0   24   \n",
       "\n",
       "   Month  Year  Dep_Hours  Dep_Minutes  Arrival_Hours  Arrival_Minutes  \\\n",
       "0      6  2019         17           30              4               25   \n",
       "1     12  2019          6           20             10               20   \n",
       "2      5  2019         19           15             19                0   \n",
       "3      5  2019          8            0             21                0   \n",
       "4      6  2019         23           55              2               45   \n",
       "\n",
       "   Duration_f  \n",
       "0         650  \n",
       "1         265  \n",
       "2        1380  \n",
       "3         805  \n",
       "4         165  "
      ]
     },
     "execution_count": 49,
     "metadata": {},
     "output_type": "execute_result"
    }
   ],
   "source": [
    "flight_test.head()"
   ]
  },
  {
   "cell_type": "markdown",
   "metadata": {},
   "source": [
    "# Splitting Input and Target variable"
   ]
  },
  {
   "cell_type": "code",
   "execution_count": 50,
   "metadata": {},
   "outputs": [
    {
     "name": "stdout",
     "output_type": "stream",
     "text": [
      "   Airline  Source  Destination  Route  Total_Stops  Additional_Info  Day  \\\n",
      "0      3.0     0.0          5.0   18.0            0              7.0   24   \n",
      "1      1.0     3.0          0.0   84.0            2              7.0    5   \n",
      "2      4.0     2.0          1.0  118.0            2              7.0    6   \n",
      "3      3.0     3.0          0.0   91.0            1              7.0    5   \n",
      "4      3.0     0.0          5.0   29.0            1              7.0    3   \n",
      "5      8.0     3.0          0.0   64.0            0              7.0   24   \n",
      "6      4.0     0.0          5.0    5.0            1              5.0    3   \n",
      "7      4.0     0.0          5.0    5.0            1              7.0    3   \n",
      "8      4.0     0.0          5.0    5.0            1              5.0    3   \n",
      "9      6.0     2.0          1.0  104.0            1              7.0   27   \n",
      "\n",
      "   Month  Year  Dep_Hours  Dep_Minutes  Arrival_Hours  Arrival_Minutes  \\\n",
      "0      3  2019         22           20              1               10   \n",
      "1      1  2019          5           50             13               15   \n",
      "2      9  2019          9           25              4               25   \n",
      "3     12  2019         18            5             23               30   \n",
      "4      1  2019         16           50             21               35   \n",
      "5      6  2019          9            0             11               25   \n",
      "6     12  2019         18           55             10               25   \n",
      "7      1  2019          8            0              5                5   \n",
      "8     12  2019          8           55             10               25   \n",
      "9      5  2019         11           25             19               15   \n",
      "\n",
      "   Duration_f  \n",
      "0         170  \n",
      "1         445  \n",
      "2        1140  \n",
      "3         325  \n",
      "4         285  \n",
      "5         145  \n",
      "6         930  \n",
      "7        1265  \n",
      "8        1530  \n",
      "9         470  \n",
      "0     3897\n",
      "1     7662\n",
      "2    13882\n",
      "3     6218\n",
      "4    13302\n",
      "5     3873\n",
      "6    11087\n",
      "7    22270\n",
      "8    11087\n",
      "9     8625\n",
      "Name: Price, dtype: int64\n",
      "(10682, 14)\n",
      "(10682,)\n"
     ]
    }
   ],
   "source": [
    "x=flight_train.drop(['Price'],axis=1)\n",
    "y=flight_train['Price']\n",
    "print(x.head(10))\n",
    "print(y.head(10))\n",
    "print(x.shape)\n",
    "print(y.shape)"
   ]
  },
  {
   "cell_type": "code",
   "execution_count": null,
   "metadata": {},
   "outputs": [],
   "source": []
  },
  {
   "cell_type": "markdown",
   "metadata": {},
   "source": [
    "# Creating Train and Test Split"
   ]
  },
  {
   "cell_type": "code",
   "execution_count": 51,
   "metadata": {},
   "outputs": [],
   "source": [
    "# Importing Regression Algorithms & Metrics\n",
    "from sklearn.svm import SVR\n",
    "from sklearn.tree import DecisionTreeRegressor\n",
    "from sklearn.neighbors import KNeighborsRegressor\n",
    "from sklearn.ensemble import RandomForestRegressor,GradientBoostingRegressor,AdaBoostRegressor\n",
    "from sklearn.linear_model import LinearRegression\n",
    "from sklearn.linear_model import Lasso,Ridge,ElasticNet\n",
    "from xgboost import XGBRegressor\n",
    "from sklearn.model_selection import train_test_split\n",
    "from sklearn.metrics import mean_squared_error,mean_absolute_error,r2_score"
   ]
  },
  {
   "cell_type": "code",
   "execution_count": 52,
   "metadata": {},
   "outputs": [
    {
     "name": "stdout",
     "output_type": "stream",
     "text": [
      "Best R2 Score is :  0.4713018164348821  when Random state is :  420\n"
     ]
    }
   ],
   "source": [
    "maxAccu=0\n",
    "maxRs=0\n",
    "for i in range(1,500):\n",
    "    x_train,x_test,y_train,y_test=train_test_split(x,y,test_size=.33,random_state=i)\n",
    "    lr=LinearRegression()\n",
    "    lr.fit(x_train,y_train)\n",
    "    lr_pred=lr.predict(x_test)\n",
    "    acc=r2_score(y_test,lr_pred)\n",
    "    if acc>maxAccu:\n",
    "        maxAccu=acc\n",
    "        maxRs=i\n",
    "print('Best R2 Score is : ', maxAccu, ' when Random state is : ',maxRs)"
   ]
  },
  {
   "cell_type": "code",
   "execution_count": 53,
   "metadata": {},
   "outputs": [],
   "source": [
    "x_train,x_test,y_train,y_test=train_test_split(x,y,test_size=.33,random_state=420)"
   ]
  },
  {
   "cell_type": "code",
   "execution_count": 54,
   "metadata": {},
   "outputs": [],
   "source": [
    "# Defining Model List which support Multi Regression\n",
    "model_list=[LinearRegression(),SVR(),DecisionTreeRegressor(),KNeighborsRegressor(),RandomForestRegressor(),GradientBoostingRegressor(),AdaBoostRegressor(),Lasso(),Ridge(),ElasticNet(),XGBRegressor()]"
   ]
  },
  {
   "cell_type": "code",
   "execution_count": 189,
   "metadata": {},
   "outputs": [
    {
     "name": "stdout",
     "output_type": "stream",
     "text": [
      "Training Accuracy for the model  LinearRegression()  is:  41.13577068709302\n",
      "Testing Accuracy for the model  LinearRegression()  is:  47.130181643488214\n",
      "\n",
      "\n",
      "Training Accuracy for the model  SVR()  is:  4.617265668856019\n",
      "Testing Accuracy for the model  SVR()  is:  4.864036741224886\n",
      "\n",
      "\n",
      "Training Accuracy for the model  DecisionTreeRegressor()  is:  99.61857708193507\n",
      "Testing Accuracy for the model  DecisionTreeRegressor()  is:  83.07250465710617\n",
      "\n",
      "\n",
      "Training Accuracy for the model  KNeighborsRegressor()  is:  69.42026162521793\n",
      "Testing Accuracy for the model  KNeighborsRegressor()  is:  57.33132148552369\n",
      "\n",
      "\n",
      "Training Accuracy for the model  RandomForestRegressor()  is:  97.64675150782473\n",
      "Testing Accuracy for the model  RandomForestRegressor()  is:  90.41456066008631\n",
      "\n",
      "\n",
      "Training Accuracy for the model  GradientBoostingRegressor()  is:  83.75494306324272\n",
      "Testing Accuracy for the model  GradientBoostingRegressor()  is:  84.0281025964022\n",
      "\n",
      "\n",
      "Training Accuracy for the model  AdaBoostRegressor()  is:  17.501036452110274\n",
      "Testing Accuracy for the model  AdaBoostRegressor()  is:  8.642242308761649\n",
      "\n",
      "\n",
      "Training Accuracy for the model  Lasso()  is:  41.13572934677132\n",
      "Testing Accuracy for the model  Lasso()  is:  47.130934010595574\n",
      "\n",
      "\n",
      "Training Accuracy for the model  Ridge()  is:  41.13576154737596\n",
      "Testing Accuracy for the model  Ridge()  is:  47.130793254992064\n",
      "\n",
      "\n",
      "Training Accuracy for the model  ElasticNet()  is:  33.723884393570835\n",
      "Testing Accuracy for the model  ElasticNet()  is:  39.098164912293996\n",
      "\n",
      "\n",
      "Training Accuracy for the model  XGBRegressor(base_score=0.5, booster='gbtree', colsample_bylevel=1,\n",
      "             colsample_bynode=1, colsample_bytree=1, gamma=0, gpu_id=-1,\n",
      "             importance_type='gain', interaction_constraints='',\n",
      "             learning_rate=0.300000012, max_delta_step=0, max_depth=6,\n",
      "             min_child_weight=1, missing=nan, monotone_constraints='()',\n",
      "             n_estimators=100, n_jobs=16, num_parallel_tree=1, random_state=0,\n",
      "             reg_alpha=0, reg_lambda=1, scale_pos_weight=1, subsample=1,\n",
      "             tree_method='exact', validate_parameters=1, verbosity=None)  is:  97.60445746200529\n",
      "Testing Accuracy for the model  XGBRegressor(base_score=0.5, booster='gbtree', colsample_bylevel=1,\n",
      "             colsample_bynode=1, colsample_bytree=1, gamma=0, gpu_id=-1,\n",
      "             importance_type='gain', interaction_constraints='',\n",
      "             learning_rate=0.300000012, max_delta_step=0, max_depth=6,\n",
      "             min_child_weight=1, missing=nan, monotone_constraints='()',\n",
      "             n_estimators=100, n_jobs=16, num_parallel_tree=1, random_state=0,\n",
      "             reg_alpha=0, reg_lambda=1, scale_pos_weight=1, subsample=1,\n",
      "             tree_method='exact', validate_parameters=1, verbosity=None)  is:  86.09954996481079\n",
      "\n",
      "\n"
     ]
    }
   ],
   "source": [
    "# Creating For loop to print Training and Test accuracy score\n",
    "for m in model_list:\n",
    "    model=m\n",
    "    model.fit(x_train,y_train)\n",
    "    model_pred_train=model.predict(x_train)\n",
    "    model_pred=model.predict(x_test)\n",
    "    print('Training Accuracy for the model ',m,' is: ',r2_score(y_train,model_pred_train)*100)\n",
    "    print('Testing Accuracy for the model ',m,' is: ',r2_score(y_test,model_pred)*100)\n",
    "    print('\\n')"
   ]
  },
  {
   "cell_type": "markdown",
   "metadata": {},
   "source": [
    "# Cross Validation"
   ]
  },
  {
   "cell_type": "code",
   "execution_count": 56,
   "metadata": {},
   "outputs": [],
   "source": [
    "from sklearn.model_selection import cross_val_score"
   ]
  },
  {
   "cell_type": "code",
   "execution_count": 190,
   "metadata": {},
   "outputs": [
    {
     "name": "stdout",
     "output_type": "stream",
     "text": [
      "At crossfold 2 the CV score of is 42.80045119884452 and the accuracy for testing is 47.130181643488214 \n",
      "\n",
      "\n",
      "At crossfold 3 the CV score of is 42.836033756221276 and the accuracy for testing is 47.130181643488214 \n",
      "\n",
      "\n",
      "At crossfold 4 the CV score of is 42.76374010308762 and the accuracy for testing is 47.130181643488214 \n",
      "\n",
      "\n",
      "At crossfold 5 the CV score of is 42.81613600415911 and the accuracy for testing is 47.130181643488214 \n",
      "\n",
      "\n",
      "At crossfold 6 the CV score of is 42.98336776941416 and the accuracy for testing is 47.130181643488214 \n",
      "\n",
      "\n",
      "At crossfold 7 the CV score of is 42.988789226495996 and the accuracy for testing is 47.130181643488214 \n",
      "\n",
      "\n",
      "At crossfold 8 the CV score of is 42.910364008379496 and the accuracy for testing is 47.130181643488214 \n",
      "\n",
      "\n",
      "At crossfold 9 the CV score of is 43.07728252263704 and the accuracy for testing is 47.130181643488214 \n",
      "\n",
      "\n"
     ]
    }
   ],
   "source": [
    "# Linear Regression\n",
    "lr=LinearRegression()\n",
    "lr.fit(x_train,y_train)\n",
    "lr_pred=lr.predict(x_test)\n",
    "testing_accu=r2_score(y_test,lr_pred)*100\n",
    "for k in range(2,10):\n",
    "    cv_score=cross_val_score(lr,x,y,cv=k)\n",
    "    cv_mean=cv_score.mean()*100\n",
    "    print(f'At crossfold {k} the CV score of is {cv_mean} and the accuracy for testing is {testing_accu} ')\n",
    "    print('\\n')"
   ]
  },
  {
   "cell_type": "code",
   "execution_count": 194,
   "metadata": {},
   "outputs": [
    {
     "name": "stdout",
     "output_type": "stream",
     "text": [
      "At crossfold 2 the CV score of is 77.40724767238987 and the accuracy for testing is 82.46191161214306 \n",
      "\n",
      "\n",
      "At crossfold 3 the CV score of is 79.99421421023825 and the accuracy for testing is 82.46191161214306 \n",
      "\n",
      "\n",
      "At crossfold 4 the CV score of is 80.78936088698529 and the accuracy for testing is 82.46191161214306 \n",
      "\n",
      "\n",
      "At crossfold 5 the CV score of is 78.62652947841525 and the accuracy for testing is 82.46191161214306 \n",
      "\n",
      "\n",
      "At crossfold 6 the CV score of is 79.17484573625019 and the accuracy for testing is 82.46191161214306 \n",
      "\n",
      "\n",
      "At crossfold 7 the CV score of is 79.84780595831815 and the accuracy for testing is 82.46191161214306 \n",
      "\n",
      "\n",
      "At crossfold 8 the CV score of is 78.06493986152812 and the accuracy for testing is 82.46191161214306 \n",
      "\n",
      "\n",
      "At crossfold 9 the CV score of is 79.54809097815195 and the accuracy for testing is 82.46191161214306 \n",
      "\n",
      "\n"
     ]
    }
   ],
   "source": [
    "# DecisionTreeClassifier\n",
    "dtr=DecisionTreeRegressor()\n",
    "dtr.fit(x_train,y_train)\n",
    "dtr_pred=dtr.predict(x_test)\n",
    "testing_accu=r2_score(y_test,dtr_pred)*100\n",
    "for k in range(2,10):\n",
    "    cv_score=cross_val_score(dtr,x,y,cv=k)\n",
    "    cv_mean=cv_score.mean()*100\n",
    "    print(f'At crossfold {k} the CV score of is {cv_mean} and the accuracy for testing is {testing_accu} ')\n",
    "    print('\\n')"
   ]
  },
  {
   "cell_type": "code",
   "execution_count": 192,
   "metadata": {},
   "outputs": [
    {
     "name": "stdout",
     "output_type": "stream",
     "text": [
      "At crossfold 2 the CV score of is 51.79666607479003 and the accuracy for testing is 57.33132148552369 \n",
      "\n",
      "\n",
      "At crossfold 3 the CV score of is 53.91740889701554 and the accuracy for testing is 57.33132148552369 \n",
      "\n",
      "\n",
      "At crossfold 4 the CV score of is 56.58777262767618 and the accuracy for testing is 57.33132148552369 \n",
      "\n",
      "\n",
      "At crossfold 5 the CV score of is 57.09515738621841 and the accuracy for testing is 57.33132148552369 \n",
      "\n",
      "\n",
      "At crossfold 6 the CV score of is 57.88547780452791 and the accuracy for testing is 57.33132148552369 \n",
      "\n",
      "\n",
      "At crossfold 7 the CV score of is 57.91441826813987 and the accuracy for testing is 57.33132148552369 \n",
      "\n",
      "\n",
      "At crossfold 8 the CV score of is 58.056967134232785 and the accuracy for testing is 57.33132148552369 \n",
      "\n",
      "\n",
      "At crossfold 9 the CV score of is 58.297184805431726 and the accuracy for testing is 57.33132148552369 \n",
      "\n",
      "\n"
     ]
    }
   ],
   "source": [
    "# KNeighbor Regressor\n",
    "knn=KNeighborsRegressor()\n",
    "knn.fit(x_train,y_train)\n",
    "knn_pred=knn.predict(x_test)\n",
    "testing_accu=r2_score(y_test,knn_pred)*100\n",
    "for k in range(2,10):\n",
    "    cv_score=cross_val_score(knn,x,y,cv=k)\n",
    "    cv_mean=cv_score.mean()*100\n",
    "    print(f'At crossfold {k} the CV score of is {cv_mean} and the accuracy for testing is {testing_accu} ')\n",
    "    print('\\n')"
   ]
  },
  {
   "cell_type": "code",
   "execution_count": 42,
   "metadata": {},
   "outputs": [
    {
     "name": "stdout",
     "output_type": "stream",
     "text": [
      "At crossfold 2 the CV score of is 85.20342705154647 and the accuracy for testing is 90.17611603015887 \n",
      "\n",
      "\n",
      "At crossfold 3 the CV score of is 86.26553289040481 and the accuracy for testing is 90.17611603015887 \n",
      "\n",
      "\n",
      "At crossfold 4 the CV score of is 87.04270323048921 and the accuracy for testing is 90.17611603015887 \n",
      "\n",
      "\n",
      "At crossfold 5 the CV score of is 87.62116417660184 and the accuracy for testing is 90.17611603015887 \n",
      "\n",
      "\n",
      "At crossfold 6 the CV score of is 87.71986578591459 and the accuracy for testing is 90.17611603015887 \n",
      "\n",
      "\n",
      "At crossfold 7 the CV score of is 87.79558952388393 and the accuracy for testing is 90.17611603015887 \n",
      "\n",
      "\n",
      "At crossfold 8 the CV score of is 87.81593328404493 and the accuracy for testing is 90.17611603015887 \n",
      "\n",
      "\n",
      "At crossfold 9 the CV score of is 87.54898711362826 and the accuracy for testing is 90.17611603015887 \n",
      "\n",
      "\n"
     ]
    }
   ],
   "source": [
    "# RandomForestRegressor\n",
    "rfr=RandomForestRegressor()\n",
    "rfr.fit(x_train,y_train)\n",
    "rfr_pred=rfr.predict(x_test)\n",
    "testing_accu=r2_score(y_test,rfr_pred)*100\n",
    "for k in range(2,10):\n",
    "    cv_score=cross_val_score(rfr,x,y,cv=k)\n",
    "    cv_mean=cv_score.mean()*100\n",
    "    print(f'At crossfold {k} the CV score of is {cv_mean} and the accuracy for testing is {testing_accu} ')\n",
    "    print('\\n')"
   ]
  },
  {
   "cell_type": "code",
   "execution_count": 31,
   "metadata": {},
   "outputs": [
    {
     "name": "stdout",
     "output_type": "stream",
     "text": [
      "At crossfold 2 the CV score of is 81.24250795099275 and the accuracy for testing is 83.92971251308967 \n",
      "\n",
      "\n",
      "At crossfold 3 the CV score of is 81.51588276339403 and the accuracy for testing is 83.92971251308967 \n",
      "\n",
      "\n",
      "At crossfold 4 the CV score of is 82.5712379535755 and the accuracy for testing is 83.92971251308967 \n",
      "\n",
      "\n",
      "At crossfold 5 the CV score of is 82.31089296045958 and the accuracy for testing is 83.92971251308967 \n",
      "\n",
      "\n",
      "At crossfold 6 the CV score of is 82.11688471687143 and the accuracy for testing is 83.92971251308967 \n",
      "\n",
      "\n",
      "At crossfold 7 the CV score of is 82.38594746774999 and the accuracy for testing is 83.92971251308967 \n",
      "\n",
      "\n",
      "At crossfold 8 the CV score of is 82.24960640241446 and the accuracy for testing is 83.92971251308967 \n",
      "\n",
      "\n",
      "At crossfold 9 the CV score of is 82.27300593788365 and the accuracy for testing is 83.92971251308967 \n",
      "\n",
      "\n"
     ]
    }
   ],
   "source": [
    "# Cross validating GradientBoostingRegressor\n",
    "\n",
    "gbr = GradientBoostingRegressor()\n",
    "gbr.fit(x_train, y_train)\n",
    "gbr_pred=gbr.predict(x_test)\n",
    "testing_accu=r2_score(y_test,gbr_pred)*100\n",
    "for k in range(2,10):\n",
    "    cv_score=cross_val_score(gbr,x,y,cv=k)\n",
    "    cv_mean=cv_score.mean()*100\n",
    "    print(f'At crossfold {k} the CV score of is {cv_mean} and the accuracy for testing is {testing_accu} ')\n",
    "    print('\\n')"
   ]
  },
  {
   "cell_type": "code",
   "execution_count": 32,
   "metadata": {},
   "outputs": [
    {
     "name": "stdout",
     "output_type": "stream",
     "text": [
      "At crossfold 2 the CV score of is 86.75398268595241 and the accuracy for testing is 86.09954996481079 \n",
      "\n",
      "\n",
      "At crossfold 3 the CV score of is 88.52483649468596 and the accuracy for testing is 86.09954996481079 \n",
      "\n",
      "\n",
      "At crossfold 4 the CV score of is 88.67861990744052 and the accuracy for testing is 86.09954996481079 \n",
      "\n",
      "\n",
      "At crossfold 5 the CV score of is 90.17247113951382 and the accuracy for testing is 86.09954996481079 \n",
      "\n",
      "\n",
      "At crossfold 6 the CV score of is 89.48637932237756 and the accuracy for testing is 86.09954996481079 \n",
      "\n",
      "\n",
      "At crossfold 7 the CV score of is 90.05399952235383 and the accuracy for testing is 86.09954996481079 \n",
      "\n",
      "\n",
      "At crossfold 8 the CV score of is 90.12033114906673 and the accuracy for testing is 86.09954996481079 \n",
      "\n",
      "\n",
      "At crossfold 9 the CV score of is 90.09477789483078 and the accuracy for testing is 86.09954996481079 \n",
      "\n",
      "\n"
     ]
    }
   ],
   "source": [
    "xgb = XGBRegressor()\n",
    "xgb.fit(x_train, y_train)\n",
    "xgb_pred=xgb.predict(x_test)\n",
    "testing_accu=r2_score(y_test,xgb_pred)*100\n",
    "for k in range(2,10):\n",
    "    cv_score=cross_val_score(xgb,x,y,cv=k)\n",
    "    cv_mean=cv_score.mean()*100\n",
    "    print(f'At crossfold {k} the CV score of is {cv_mean} and the accuracy for testing is {testing_accu} ')\n",
    "    print('\\n')"
   ]
  },
  {
   "cell_type": "markdown",
   "metadata": {},
   "source": [
    "We observe better performance in XGBoosting Algorithm. We get high accuracy ut with some underfitting. We will hyper tune to check for improvement."
   ]
  },
  {
   "cell_type": "markdown",
   "metadata": {},
   "source": [
    "# Hyper Tuning"
   ]
  },
  {
   "cell_type": "code",
   "execution_count": 34,
   "metadata": {},
   "outputs": [],
   "source": [
    "# Importing Gridsearch CV\n",
    "\n",
    "from sklearn.model_selection import GridSearchCV"
   ]
  },
  {
   "cell_type": "markdown",
   "metadata": {},
   "source": [
    "For XG Boost"
   ]
  },
  {
   "cell_type": "code",
   "execution_count": 37,
   "metadata": {},
   "outputs": [],
   "source": [
    "# defining parameters for XGB Boost\n",
    "\n",
    "xgb_param={'n_estimators':list(range(50,400,50)),'max_depth' : np.arange(2,8),'learning_rate' :[0.01,0.1,0.2,0.3],'min_child_weight':np.arange(1,7),'nthread':np.arange(1,6)}\n",
    "gcv_xgb= GridSearchCV(estimator=xgb,param_grid=xgb_param,cv=5)"
   ]
  },
  {
   "cell_type": "code",
   "execution_count": 38,
   "metadata": {},
   "outputs": [
    {
     "data": {
      "text/plain": [
       "{'learning_rate': 0.2,\n",
       " 'max_depth': 7,\n",
       " 'min_child_weight': 1,\n",
       " 'n_estimators': 150,\n",
       " 'nthread': 1}"
      ]
     },
     "execution_count": 38,
     "metadata": {},
     "output_type": "execute_result"
    }
   ],
   "source": [
    "gcv_xgb.fit(x_train,y_train)\n",
    "gcv_xgb.best_params_"
   ]
  },
  {
   "cell_type": "code",
   "execution_count": 57,
   "metadata": {},
   "outputs": [
    {
     "name": "stdout",
     "output_type": "stream",
     "text": [
      "At crossfold 2 the CV score of is 86.14534035354681 and the accuracy for testing is 88.61070286545018 \n",
      "\n",
      "\n",
      "At crossfold 3 the CV score of is 87.93537603023087 and the accuracy for testing is 88.61070286545018 \n",
      "\n",
      "\n",
      "At crossfold 4 the CV score of is 89.52713367697245 and the accuracy for testing is 88.61070286545018 \n",
      "\n",
      "\n",
      "At crossfold 5 the CV score of is 89.96669862402295 and the accuracy for testing is 88.61070286545018 \n",
      "\n",
      "\n",
      "At crossfold 6 the CV score of is 90.34247999978126 and the accuracy for testing is 88.61070286545018 \n",
      "\n",
      "\n",
      "At crossfold 7 the CV score of is 89.69456989375578 and the accuracy for testing is 88.61070286545018 \n",
      "\n",
      "\n",
      "At crossfold 8 the CV score of is 90.3173988136532 and the accuracy for testing is 88.61070286545018 \n",
      "\n",
      "\n",
      "At crossfold 9 the CV score of is 90.48759925148366 and the accuracy for testing is 88.61070286545018 \n",
      "\n",
      "\n"
     ]
    }
   ],
   "source": [
    "# Training with best parameters and cross validating\n",
    "\n",
    "xgb1=XGBRegressor(learning_rate=0.2,max_depth=7,min_child_weight=1,n_estimators=150,nthread=1)\n",
    "xgb1.fit(x_train,y_train)\n",
    "xgb1_pred=xgb1.predict(x_test)\n",
    "testing_accu=r2_score(y_test,xgb1_pred)*100\n",
    "for k in range(2,10):\n",
    "    cv_score=cross_val_score(xgb1,x,y,cv=k)\n",
    "    cv_mean=cv_score.mean()*100\n",
    "    print(f'At crossfold {k} the CV score of is {cv_mean} and the accuracy for testing is {testing_accu} ')\n",
    "    print('\\n')"
   ]
  },
  {
   "cell_type": "markdown",
   "metadata": {},
   "source": [
    "# Plotting Prediction Graph"
   ]
  },
  {
   "cell_type": "code",
   "execution_count": 40,
   "metadata": {},
   "outputs": [
    {
     "data": {
      "image/png": "[encoded data removed]",
      "text/plain": [
       "<Figure size 720x576 with 1 Axes>"
      ]
     },
     "metadata": {
      "needs_background": "light"
     },
     "output_type": "display_data"
    }
   ],
   "source": [
    "plt.figure(figsize=(10,8))\n",
    "plt.scatter(x=y_test,y=xgb1_pred,color='r')\n",
    "plt.plot(y_test,y_test)\n",
    "plt.xlabel('Actual Price')\n",
    "plt.ylabel('Predicted Price')\n",
    "plt.title(\"XG Boost Regressor\")\n",
    "plt.show()"
   ]
  },
  {
   "cell_type": "markdown",
   "metadata": {},
   "source": [
    "# Saving the Model"
   ]
  },
  {
   "cell_type": "code",
   "execution_count": 58,
   "metadata": {},
   "outputs": [],
   "source": [
    "import pickle\n",
    "filename='flight_price.pkl'\n",
    "pickle.dump(xgb1,open(filename,'wb'))"
   ]
  },
  {
   "cell_type": "code",
   "execution_count": null,
   "metadata": {},
   "outputs": [],
   "source": []
  },
  {
   "cell_type": "markdown",
   "metadata": {},
   "source": [
    "# Loading Model"
   ]
  },
  {
   "cell_type": "code",
   "execution_count": 59,
   "metadata": {},
   "outputs": [],
   "source": [
    "load_model=pickle.load(open('flight_price.pkl','rb'))"
   ]
  },
  {
   "cell_type": "code",
   "execution_count": 60,
   "metadata": {},
   "outputs": [
    {
     "data": {
      "text/plain": [
       "XGBRegressor(base_score=0.5, booster='gbtree', colsample_bylevel=1,\n",
       "             colsample_bynode=1, colsample_bytree=1, gamma=0, gpu_id=-1,\n",
       "             importance_type='gain', interaction_constraints='',\n",
       "             learning_rate=0.2, max_delta_step=0, max_depth=7,\n",
       "             min_child_weight=1, missing=nan, monotone_constraints='()',\n",
       "             n_estimators=150, n_jobs=1, nthread=1, num_parallel_tree=1,\n",
       "             random_state=0, reg_alpha=0, reg_lambda=1, scale_pos_weight=1,\n",
       "             subsample=1, tree_method='exact', validate_parameters=1,\n",
       "             verbosity=None)"
      ]
     },
     "execution_count": 60,
     "metadata": {},
     "output_type": "execute_result"
    }
   ],
   "source": [
    "load_model"
   ]
  },
  {
   "cell_type": "code",
   "execution_count": 68,
   "metadata": {},
   "outputs": [],
   "source": [
    "predictions=load_model.predict(flight_test)"
   ]
  },
  {
   "cell_type": "code",
   "execution_count": 69,
   "metadata": {},
   "outputs": [
    {
     "data": {
      "text/plain": [
       "array([ 9798.597 ,  4603.9834, 17760.086 , ..., 12730.907 , 11968.793 ,\n",
       "        6353.0684], dtype=float32)"
      ]
     },
     "execution_count": 69,
     "metadata": {},
     "output_type": "execute_result"
    }
   ],
   "source": [
    "predictions"
   ]
  },
  {
   "cell_type": "code",
   "execution_count": 74,
   "metadata": {},
   "outputs": [],
   "source": [
    "predictions=pd.DataFrame(predictions,columns=['Predictes Price'])"
   ]
  },
  {
   "cell_type": "code",
   "execution_count": 77,
   "metadata": {},
   "outputs": [],
   "source": [
    "predictions.to_excel('predicted_flight_price.xlsx')"
   ]
  },
  {
   "cell_type": "code",
   "execution_count": null,
   "metadata": {},
   "outputs": [],
   "source": []
  }
 ],
 "metadata": {
  "kernelspec": {
   "display_name": "Python 3",
   "language": "python",
   "name": "python3"
  },
  "language_info": {
   "codemirror_mode": {
    "name": "ipython",
    "version": 3
   },
   "file_extension": ".py",
   "mimetype": "text/x-python",
   "name": "python",
   "nbconvert_exporter": "python",
   "pygments_lexer": "ipython3",
   "version": "3.8.5"
  }
 },
 "nbformat": 4,
 "nbformat_minor": 4
}
